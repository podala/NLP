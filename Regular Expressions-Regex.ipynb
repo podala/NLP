{
 "cells": [
  {
   "cell_type": "markdown",
   "metadata": {
    "id": "QXS5l-N5w9vj"
   },
   "source": [
    "# Regular Expressions\n",
    "\n",
    "\n",
    "\n",
    "\n"
   ]
  },
  {
   "cell_type": "markdown",
   "metadata": {
    "id": "4UtyMWg8w9vv"
   },
   "source": [
    "<b>Identifiers</b> \n",
    "<br>\n",
    "<br>\n",
    "0   &nbsp;&nbsp;&nbsp;&nbsp;&nbsp;&nbsp;&nbsp;  \\d = any number\n",
    "<br>\n",
    "1   &nbsp;&nbsp;&nbsp;&nbsp;&nbsp;&nbsp;&nbsp;  \\D = anything but a number\n",
    "<br>\n",
    "2   &nbsp;&nbsp;&nbsp;&nbsp;&nbsp;&nbsp;&nbsp;  \\s = space\n",
    "<br>\n",
    "3   &nbsp;&nbsp;&nbsp;&nbsp;&nbsp;&nbsp;&nbsp;  \\S = anything but a space\n",
    "<br>\n",
    "4   &nbsp;&nbsp;&nbsp;&nbsp;&nbsp;&nbsp;&nbsp;  \\w = any letter\n",
    "<br>\n",
    "5   &nbsp;&nbsp;&nbsp;&nbsp;&nbsp;&nbsp;&nbsp;  \\W = anything but a letter\n",
    "<br>\n",
    "6   &nbsp;&nbsp;&nbsp;&nbsp;&nbsp;&nbsp;&nbsp;  . = any character, except for a new line\n",
    "<br>\n",
    "7   &nbsp;&nbsp;&nbsp;&nbsp;&nbsp;&nbsp;&nbsp;  \\b = space around whole words\n",
    "<br>\n",
    "8   &nbsp;&nbsp;&nbsp;&nbsp;&nbsp;&nbsp;&nbsp;  \\. = period. must use backslash, because . normally means any character.\n",
    "\n",
    "\n",
    "<b>Modifiers</b> \n",
    "<br>\n",
    "<br>\n",
    "1   &nbsp;&nbsp;&nbsp;&nbsp;&nbsp;&nbsp;&nbsp;  {1,3} = for digits, u expect 1-3 counts of digits, or \"places\"\n",
    "<br>\n",
    "2   &nbsp;&nbsp;&nbsp;&nbsp;&nbsp;&nbsp;&nbsp;  + = match 1 or more\n",
    "<br>\n",
    "3   &nbsp;&nbsp;&nbsp;&nbsp;&nbsp;&nbsp;&nbsp;  ? = match 0 or 1 repetitions.\n",
    "<br>\n",
    "4   &nbsp;&nbsp;&nbsp;&nbsp;&nbsp;&nbsp;&nbsp;  * = match 0 or MORE repetitions\n",
    "<br>\n",
    "5   &nbsp;&nbsp;&nbsp;&nbsp;&nbsp;&nbsp;&nbsp;  $ = matches at the end of string\n",
    "<br>\n",
    "6   &nbsp;&nbsp;&nbsp;&nbsp;&nbsp;&nbsp;&nbsp;  ^ = matches start of a string\n",
    "<br>\n",
    "7   &nbsp;&nbsp;&nbsp;&nbsp;&nbsp;&nbsp;&nbsp;  | = matches either/or. Example x|y = will match either x or y\n",
    "<br>\n",
    "8   &nbsp;&nbsp;&nbsp;&nbsp;&nbsp;&nbsp;&nbsp;  [] = range, or \"variance\"\n",
    "<br>\n",
    "9   &nbsp;&nbsp;&nbsp;&nbsp;&nbsp;&nbsp;&nbsp;  {x} = expect to see this amount of the preceding code.\n",
    "<br>\n",
    "10   &nbsp;&nbsp;&nbsp;&nbsp;&nbsp;&nbsp;&nbsp;  {x,y} = expect to see this x-y amounts of the precedng code\n",
    "\n",
    "\n",
    "<b>WhiteSpace</b> \n",
    "<br>\n",
    "<br>\n",
    "1   &nbsp;&nbsp;&nbsp;&nbsp;&nbsp;&nbsp;&nbsp;  \\n = new line\n",
    "<br>\n",
    "2   &nbsp;&nbsp;&nbsp;&nbsp;&nbsp;&nbsp;&nbsp;  \\s = space\n",
    "<br>\n",
    "3   &nbsp;&nbsp;&nbsp;&nbsp;&nbsp;&nbsp;&nbsp;  \\t = tab\n",
    "<br>\n",
    "4   &nbsp;&nbsp;&nbsp;&nbsp;&nbsp;&nbsp;&nbsp;  \\e = escape\n",
    "<br>\n",
    "5   &nbsp;&nbsp;&nbsp;&nbsp;&nbsp;&nbsp;&nbsp;  \\f = form feed\n",
    "<br>\n",
    "6   &nbsp;&nbsp;&nbsp;&nbsp;&nbsp;&nbsp;&nbsp;  \\r = carriage return\n",
    "\n",
    "\n",
    "<b>Brackets</b> \n",
    "<br>\n",
    "<br>\n",
    "1   &nbsp;&nbsp;&nbsp;&nbsp;&nbsp;&nbsp;&nbsp;  [] = quant[ia]tative = will find either quantitative, or quantatative.\n",
    "<br>\n",
    "2   &nbsp;&nbsp;&nbsp;&nbsp;&nbsp;&nbsp;&nbsp;  [a-z] = return any lowercase letter a-z\n",
    "<br>\n",
    "3   &nbsp;&nbsp;&nbsp;&nbsp;&nbsp;&nbsp;&nbsp;  [1-5a-qA-Z] = return all numbers 1-5, lowercase letters a-q and uppercase A-Z\n"
   ]
  },
  {
   "cell_type": "markdown",
   "metadata": {
    "id": "1wzPotVOw9vw"
   },
   "source": [
    "### This concept allows you to perform SEARCH operation on STRING DATA based on YOUR CUSTOM RULES !!!"
   ]
  },
  {
   "cell_type": "code",
   "execution_count": 1,
   "metadata": {
    "ExecuteTime": {
     "end_time": "2021-03-06T16:58:22.669963Z",
     "start_time": "2021-03-06T16:58:22.660987Z"
    },
    "executionInfo": {
     "elapsed": 2763,
     "status": "ok",
     "timestamp": 1607790671242,
     "user": {
      "displayName": "sujata drall",
      "photoUrl": "",
      "userId": "07858160099359690614"
     },
     "user_tz": -330
    },
    "id": "VC3vwcIcw9vx"
   },
   "outputs": [],
   "source": [
    "# String\n",
    "text = \"Welcome to Simplilearn. Hope you are having a great experience\""
   ]
  },
  {
   "cell_type": "code",
   "execution_count": 2,
   "metadata": {
    "ExecuteTime": {
     "end_time": "2021-03-06T16:58:24.161144Z",
     "start_time": "2021-03-06T16:58:24.141200Z"
    },
    "colab": {
     "base_uri": "https://localhost:8080/"
    },
    "executionInfo": {
     "elapsed": 4372,
     "status": "ok",
     "timestamp": 1607790672919,
     "user": {
      "displayName": "sujata drall",
      "photoUrl": "",
      "userId": "07858160099359690614"
     },
     "user_tz": -330
    },
    "id": "AJ2pbDonw9vy",
    "outputId": "becf3bf6-39e8-4e1e-9f78-eca3decbfc1c"
   },
   "outputs": [
    {
     "data": {
      "text/plain": [
       "str"
      ]
     },
     "execution_count": 2,
     "metadata": {},
     "output_type": "execute_result"
    }
   ],
   "source": [
    "type(text)"
   ]
  },
  {
   "cell_type": "code",
   "execution_count": 3,
   "metadata": {
    "ExecuteTime": {
     "end_time": "2021-03-06T16:58:31.665370Z",
     "start_time": "2021-03-06T16:58:31.658388Z"
    },
    "colab": {
     "base_uri": "https://localhost:8080/",
     "height": 35
    },
    "executionInfo": {
     "elapsed": 4359,
     "status": "ok",
     "timestamp": 1607790672921,
     "user": {
      "displayName": "sujata drall",
      "photoUrl": "",
      "userId": "07858160099359690614"
     },
     "user_tz": -330
    },
    "id": "tM_GXqhAw9vz",
    "outputId": "1c0725b9-4ae1-4f1c-ad97-2499d901d9ba"
   },
   "outputs": [
    {
     "data": {
      "text/plain": [
       "'welcome to simplilearn. hope you are having a great experience'"
      ]
     },
     "execution_count": 3,
     "metadata": {},
     "output_type": "execute_result"
    }
   ],
   "source": [
    "text.lower()"
   ]
  },
  {
   "cell_type": "code",
   "execution_count": 6,
   "metadata": {
    "ExecuteTime": {
     "end_time": "2021-03-06T16:59:25.599202Z",
     "start_time": "2021-03-06T16:59:25.591702Z"
    },
    "colab": {
     "base_uri": "https://localhost:8080/"
    },
    "executionInfo": {
     "elapsed": 2072,
     "status": "ok",
     "timestamp": 1607790697942,
     "user": {
      "displayName": "sujata drall",
      "photoUrl": "",
      "userId": "07858160099359690614"
     },
     "user_tz": -330
    },
    "id": "qtnCMSe7w9v0",
    "outputId": "c9dbb74a-2b15-4fae-cc38-af430674cd54"
   },
   "outputs": [
    {
     "data": {
      "text/plain": [
       "True"
      ]
     },
     "execution_count": 6,
     "metadata": {},
     "output_type": "execute_result"
    }
   ],
   "source": [
    "#Write a code to check if the word great exists in text variable\n",
    "\"great\" in text.lower()"
   ]
  },
  {
   "cell_type": "markdown",
   "metadata": {
    "id": "lgLhXC05w9v0"
   },
   "source": [
    "#### Use Regular Expression to check if the word NLP exists in text variable\n"
   ]
  },
  {
   "cell_type": "code",
   "execution_count": 7,
   "metadata": {
    "ExecuteTime": {
     "end_time": "2021-03-06T17:00:35.016805Z",
     "start_time": "2021-03-06T17:00:35.010825Z"
    },
    "executionInfo": {
     "elapsed": 2151,
     "status": "ok",
     "timestamp": 1607790731092,
     "user": {
      "displayName": "sujata drall",
      "photoUrl": "",
      "userId": "07858160099359690614"
     },
     "user_tz": -330
    },
    "id": "pfC36wCGw9v1"
   },
   "outputs": [],
   "source": [
    "# Step 1: Import Regular Expression Package\n",
    "import re"
   ]
  },
  {
   "cell_type": "code",
   "execution_count": 8,
   "metadata": {
    "ExecuteTime": {
     "end_time": "2021-03-06T17:00:50.702921Z",
     "start_time": "2021-03-06T17:00:50.695939Z"
    }
   },
   "outputs": [
    {
     "data": {
      "text/plain": [
       "'Welcome to Simplilearn. Hope you are having a great experience'"
      ]
     },
     "execution_count": 8,
     "metadata": {},
     "output_type": "execute_result"
    }
   ],
   "source": [
    "text"
   ]
  },
  {
   "cell_type": "code",
   "execution_count": 9,
   "metadata": {
    "ExecuteTime": {
     "end_time": "2021-03-06T17:00:51.724700Z",
     "start_time": "2021-03-06T17:00:51.714339Z"
    },
    "executionInfo": {
     "elapsed": 1022,
     "status": "ok",
     "timestamp": 1607790886548,
     "user": {
      "displayName": "sujata drall",
      "photoUrl": "",
      "userId": "07858160099359690614"
     },
     "user_tz": -330
    },
    "id": "xHOrEeOSw9v1"
   },
   "outputs": [
    {
     "data": {
      "text/plain": [
       "<re.Match object; span=(46, 51), match='great'>"
      ]
     },
     "execution_count": 9,
     "metadata": {},
     "output_type": "execute_result"
    }
   ],
   "source": [
    "# Step2: Create a Custom Rule to check if the word NLP exists or not\n",
    "rule = 'great'\n",
    "\n",
    "# Step3: Use search() in re with Rule and String\n",
    "re.search(rule,   text.lower())"
   ]
  },
  {
   "cell_type": "code",
   "execution_count": 10,
   "metadata": {
    "colab": {
     "base_uri": "https://localhost:8080/",
     "height": 35
    },
    "executionInfo": {
     "elapsed": 1283,
     "status": "ok",
     "timestamp": 1607790887660,
     "user": {
      "displayName": "sujata drall",
      "photoUrl": "",
      "userId": "07858160099359690614"
     },
     "user_tz": -330
    },
    "id": "MGyCyzOww9v2",
    "outputId": "5ba98ce8-77c5-47cd-f5f2-59eea59ac1a5"
   },
   "outputs": [
    {
     "data": {
      "text/plain": [
       "'great'"
      ]
     },
     "execution_count": 10,
     "metadata": {},
     "output_type": "execute_result"
    }
   ],
   "source": [
    "text[46:51]"
   ]
  },
  {
   "cell_type": "code",
   "execution_count": 11,
   "metadata": {
    "ExecuteTime": {
     "end_time": "2021-03-06T17:05:12.201272Z",
     "start_time": "2021-03-06T17:05:12.191783Z"
    },
    "colab": {
     "base_uri": "https://localhost:8080/"
    },
    "executionInfo": {
     "elapsed": 1115,
     "status": "ok",
     "timestamp": 1607790996245,
     "user": {
      "displayName": "sujata drall",
      "photoUrl": "",
      "userId": "07858160099359690614"
     },
     "user_tz": -330
    },
    "id": "QZd1qo7_w9v2",
    "outputId": "3a862817-7d45-4ebc-a751-32d8eda5c0ac"
   },
   "outputs": [
    {
     "data": {
      "text/plain": [
       "<re.Match object; span=(38, 42), match='data'>"
      ]
     },
     "execution_count": 11,
     "metadata": {},
     "output_type": "execute_result"
    }
   ],
   "source": [
    "#Example2: \n",
    "\n",
    "text = \"Import Regular Expression Package for data data data  data Data Filtering\"\n",
    "\n",
    "rule = \"data\"\n",
    "\n",
    "normalizedText = text.lower()\n",
    "\n",
    "re.search(rule, normalizedText)"
   ]
  },
  {
   "cell_type": "code",
   "execution_count": 12,
   "metadata": {
    "ExecuteTime": {
     "end_time": "2021-03-06T17:05:12.602198Z",
     "start_time": "2021-03-06T17:05:12.593221Z"
    },
    "colab": {
     "base_uri": "https://localhost:8080/",
     "height": 35
    },
    "executionInfo": {
     "elapsed": 962,
     "status": "ok",
     "timestamp": 1607790996925,
     "user": {
      "displayName": "sujata drall",
      "photoUrl": "",
      "userId": "07858160099359690614"
     },
     "user_tz": -330
    },
    "id": "_TMpykyrw9v3",
    "outputId": "392aaa84-8f09-473e-b87d-d33d444cf98d"
   },
   "outputs": [
    {
     "data": {
      "text/plain": [
       "'data'"
      ]
     },
     "execution_count": 12,
     "metadata": {},
     "output_type": "execute_result"
    }
   ],
   "source": [
    "text[38:42]"
   ]
  },
  {
   "cell_type": "code",
   "execution_count": 13,
   "metadata": {
    "ExecuteTime": {
     "end_time": "2021-03-06T17:05:12.852454Z",
     "start_time": "2021-03-06T17:05:12.847466Z"
    },
    "executionInfo": {
     "elapsed": 1040,
     "status": "ok",
     "timestamp": 1607791005585,
     "user": {
      "displayName": "sujata drall",
      "photoUrl": "",
      "userId": "07858160099359690614"
     },
     "user_tz": -330
    },
    "id": "t_pDNbYrw9v3"
   },
   "outputs": [],
   "source": [
    "#To extract everything\n",
    "matchesFound = re.findall(rule,normalizedText)"
   ]
  },
  {
   "cell_type": "code",
   "execution_count": 14,
   "metadata": {
    "ExecuteTime": {
     "end_time": "2021-03-06T17:05:13.101836Z",
     "start_time": "2021-03-06T17:05:13.093858Z"
    },
    "colab": {
     "base_uri": "https://localhost:8080/"
    },
    "executionInfo": {
     "elapsed": 847,
     "status": "ok",
     "timestamp": 1607791007268,
     "user": {
      "displayName": "sujata drall",
      "photoUrl": "",
      "userId": "07858160099359690614"
     },
     "user_tz": -330
    },
    "id": "8KIZF5WUw9v4",
    "outputId": "a0bda1e4-576f-4529-ad18-3b729e9ce381"
   },
   "outputs": [
    {
     "data": {
      "text/plain": [
       "['data', 'data', 'data', 'data', 'data']"
      ]
     },
     "execution_count": 14,
     "metadata": {},
     "output_type": "execute_result"
    }
   ],
   "source": [
    "matchesFound"
   ]
  },
  {
   "cell_type": "code",
   "execution_count": 15,
   "metadata": {
    "id": "MPSCtnJjw9v5",
    "outputId": "16375a64-f616-41c4-9fc3-b20cb7de7927"
   },
   "outputs": [
    {
     "data": {
      "text/plain": [
       "5"
      ]
     },
     "execution_count": 15,
     "metadata": {},
     "output_type": "execute_result"
    }
   ],
   "source": [
    "len(matchesFound)"
   ]
  },
  {
   "cell_type": "code",
   "execution_count": null,
   "metadata": {
    "id": "SM-f93bKw9v5"
   },
   "outputs": [],
   "source": [
    "#findall gives you list output"
   ]
  },
  {
   "cell_type": "code",
   "execution_count": 16,
   "metadata": {
    "id": "F3fBo8VJw9v5",
    "outputId": "d6ba189a-d05c-4c15-94fa-b3d6ce2f43a8"
   },
   "outputs": [
    {
     "name": "stdout",
     "output_type": "stream",
     "text": [
      "(38, 42)\n",
      "(43, 47)\n",
      "(48, 52)\n",
      "(54, 58)\n",
      "(59, 63)\n"
     ]
    }
   ],
   "source": [
    "#But what if you want the positions of each word\n",
    "\n",
    "#Solution: Use finditer\n",
    "\n",
    "for word in re.finditer(rule,normalizedText):\n",
    "    print(word.span())"
   ]
  },
  {
   "cell_type": "code",
   "execution_count": 17,
   "metadata": {
    "ExecuteTime": {
     "end_time": "2021-03-06T17:07:18.782345Z",
     "start_time": "2021-03-06T17:07:18.766856Z"
    }
   },
   "outputs": [
    {
     "data": {
      "text/plain": [
       "' Ram has 10 catz,Shyam has 20 DOGS'"
      ]
     },
     "execution_count": 17,
     "metadata": {},
     "output_type": "execute_result"
    }
   ],
   "source": [
    "sentence = ' Ram has 10 catz,Shyam has 20 DOGS'\n",
    "sentence"
   ]
  },
  {
   "cell_type": "code",
   "execution_count": 20,
   "metadata": {
    "ExecuteTime": {
     "end_time": "2021-03-06T17:07:31.807974Z",
     "start_time": "2021-03-06T17:07:31.799998Z"
    }
   },
   "outputs": [
    {
     "name": "stdout",
     "output_type": "stream",
     "text": [
      "\n",
      "\n",
      " <re.Match object; span=(2, 3), match='a'> \n",
      "\n",
      "\n",
      "['a', 'm', 'h', 'a', 's', 'c', 'a', 't', 'z', 'h', 'y', 'a', 'm', 'h', 'a', 's']\n"
     ]
    }
   ],
   "source": [
    "pat1 =  r\"[a-z]\"\n",
    "print('\\n\\n',re.search(pat1,sentence),'\\n\\n')\n",
    "print(re.findall(pat1,sentence))"
   ]
  },
  {
   "cell_type": "code",
   "execution_count": 21,
   "metadata": {
    "ExecuteTime": {
     "end_time": "2021-03-06T08:16:29.471491Z",
     "start_time": "2021-03-06T08:16:29.465137Z"
    }
   },
   "outputs": [
    {
     "name": "stdout",
     "output_type": "stream",
     "text": [
      "['R', 'S', 'D', 'O', 'G', 'S']\n"
     ]
    }
   ],
   "source": [
    "pat2 = r'[A-Z]'\n",
    "print(re.findall(pat2,sentence))"
   ]
  },
  {
   "cell_type": "code",
   "execution_count": 22,
   "metadata": {
    "ExecuteTime": {
     "end_time": "2021-03-06T08:16:34.639290Z",
     "start_time": "2021-03-06T08:16:34.633344Z"
    }
   },
   "outputs": [
    {
     "name": "stdout",
     "output_type": "stream",
     "text": [
      "['1', '0', '2', '0']\n"
     ]
    }
   ],
   "source": [
    "pat3 = r\"[0-9]\"\n",
    "print(re.findall(pat3,sentence))"
   ]
  },
  {
   "cell_type": "code",
   "execution_count": 27,
   "metadata": {
    "ExecuteTime": {
     "end_time": "2021-03-06T08:16:49.933074Z",
     "start_time": "2021-03-06T08:16:49.926996Z"
    }
   },
   "outputs": [
    {
     "name": "stdout",
     "output_type": "stream",
     "text": [
      "['1', '0', '2', '0']\n"
     ]
    }
   ],
   "source": [
    "pat4 = r'[\\d]'\n",
    "print(re.findall(pat4,sentence))"
   ]
  },
  {
   "cell_type": "markdown",
   "metadata": {
    "id": "0eWLtg8Cw9v6"
   },
   "source": [
    "# Creating Custom Rules"
   ]
  },
  {
   "cell_type": "markdown",
   "metadata": {
    "id": "4xI-TAKBw9v6"
   },
   "source": [
    "### Example --- Mobile Number"
   ]
  },
  {
   "cell_type": "markdown",
   "metadata": {
    "id": "nyHXCOP4w9v6"
   },
   "source": [
    "##### Patterns in Re Allows you to create custom rules"
   ]
  },
  {
   "cell_type": "code",
   "execution_count": null,
   "metadata": {
    "id": "46y461MQw9v6"
   },
   "outputs": [],
   "source": [
    "# https://docs.python.org/3/library/re.html"
   ]
  },
  {
   "cell_type": "code",
   "execution_count": null,
   "metadata": {
    "id": "mr-KxYK9w9v6"
   },
   "outputs": [],
   "source": [
    "#Rule: 11 digit Mobile No \n",
    "# Assuming First Digit is (0)\n",
    "# Remaining 10 Digits can be any number between 0 to 9"
   ]
  },
  {
   "cell_type": "code",
   "execution_count": 29,
   "metadata": {
    "ExecuteTime": {
     "end_time": "2021-03-06T17:16:35.841575Z",
     "start_time": "2021-03-06T17:16:35.835589Z"
    },
    "executionInfo": {
     "elapsed": 1114,
     "status": "ok",
     "timestamp": 1607791784452,
     "user": {
      "displayName": "sujata drall",
      "photoUrl": "",
      "userId": "07858160099359690614"
     },
     "user_tz": -330
    },
    "id": "IyzFLvB-w9v7"
   },
   "outputs": [],
   "source": [
    "ruleMobileNo1 = r'\\+91\\d{10}'"
   ]
  },
  {
   "cell_type": "code",
   "execution_count": 30,
   "metadata": {
    "ExecuteTime": {
     "end_time": "2021-03-06T17:17:09.541769Z",
     "start_time": "2021-03-06T17:17:09.534789Z"
    },
    "colab": {
     "base_uri": "https://localhost:8080/",
     "height": 35
    },
    "executionInfo": {
     "elapsed": 1070,
     "status": "ok",
     "timestamp": 1607791981250,
     "user": {
      "displayName": "sujata drall",
      "photoUrl": "",
      "userId": "07858160099359690614"
     },
     "user_tz": -330
    },
    "id": "jlgu4_ptw9v7",
    "outputId": "98b188c1-c5e9-4085-c832-47b7d857f7c5"
   },
   "outputs": [
    {
     "data": {
      "text/plain": [
       "'+911234567891'"
      ]
     },
     "execution_count": 30,
     "metadata": {},
     "output_type": "execute_result"
    }
   ],
   "source": [
    "phone = re.search(ruleMobileNo1,\"My Mobile No is +9112345678918888888888888\")\n",
    "phone.group()"
   ]
  },
  {
   "cell_type": "code",
   "execution_count": 31,
   "metadata": {
    "ExecuteTime": {
     "end_time": "2021-03-06T17:18:23.882271Z",
     "start_time": "2021-03-06T17:18:23.877280Z"
    },
    "executionInfo": {
     "elapsed": 852,
     "status": "ok",
     "timestamp": 1607791482352,
     "user": {
      "displayName": "sujata drall",
      "photoUrl": "",
      "userId": "07858160099359690614"
     },
     "user_tz": -330
    },
    "id": "doVZUQtKw9v7"
   },
   "outputs": [],
   "source": [
    "ruleMobileNo2 = r'\\+91\\d*'"
   ]
  },
  {
   "cell_type": "code",
   "execution_count": 33,
   "metadata": {
    "ExecuteTime": {
     "end_time": "2021-03-06T17:18:24.358749Z",
     "start_time": "2021-03-06T17:18:24.343786Z"
    },
    "colab": {
     "base_uri": "https://localhost:8080/",
     "height": 35
    },
    "executionInfo": {
     "elapsed": 1086,
     "status": "ok",
     "timestamp": 1607791973077,
     "user": {
      "displayName": "sujata drall",
      "photoUrl": "",
      "userId": "07858160099359690614"
     },
     "user_tz": -330
    },
    "id": "3USQ5Qfk2cxY",
    "outputId": "17f1ed47-a880-4406-8a2b-780a8a42dc34"
   },
   "outputs": [
    {
     "data": {
      "text/plain": [
       "'+912340001125454455554567898'"
      ]
     },
     "execution_count": 33,
     "metadata": {},
     "output_type": "execute_result"
    }
   ],
   "source": [
    "phone = re.search(ruleMobileNo2,\"My Mobile No is +912340001125454455554567898\")\n",
    "phone.group()"
   ]
  },
  {
   "cell_type": "code",
   "execution_count": 35,
   "metadata": {
    "ExecuteTime": {
     "end_time": "2021-03-06T17:19:29.076709Z",
     "start_time": "2021-03-06T17:19:29.057762Z"
    },
    "colab": {
     "base_uri": "https://localhost:8080/",
     "height": 35
    },
    "executionInfo": {
     "elapsed": 1044,
     "status": "ok",
     "timestamp": 1607792007018,
     "user": {
      "displayName": "sujata drall",
      "photoUrl": "",
      "userId": "07858160099359690614"
     },
     "user_tz": -330
    },
    "id": "B2xuvq6gw9v8",
    "outputId": "201824b8-b679-41b5-f4d7-88b7153c06e5"
   },
   "outputs": [
    {
     "data": {
      "text/plain": [
       "'212-345-6789'"
      ]
     },
     "execution_count": 35,
     "metadata": {},
     "output_type": "execute_result"
    }
   ],
   "source": [
    "text = \"My Phone Number is 212-345-67891\"\n",
    "ruleUsPhone = r'\\d\\d\\d-\\d\\d\\d-\\d\\d\\d\\d'\n",
    "\n",
    "usPhone = re.search(ruleUsPhone, text)\n",
    "usPhone.group()"
   ]
  },
  {
   "cell_type": "code",
   "execution_count": 36,
   "metadata": {
    "ExecuteTime": {
     "end_time": "2021-03-06T17:21:36.761823Z",
     "start_time": "2021-03-06T17:21:36.752851Z"
    },
    "colab": {
     "base_uri": "https://localhost:8080/",
     "height": 35
    },
    "executionInfo": {
     "elapsed": 1351,
     "status": "ok",
     "timestamp": 1607791858929,
     "user": {
      "displayName": "sujata drall",
      "photoUrl": "",
      "userId": "07858160099359690614"
     },
     "user_tz": -330
    },
    "id": "1y8kOHG0w9v8",
    "outputId": "b4bc26f5-2f32-454e-8791-561e55a15381"
   },
   "outputs": [
    {
     "data": {
      "text/plain": [
       "'012-345-6789'"
      ]
     },
     "execution_count": 36,
     "metadata": {},
     "output_type": "execute_result"
    }
   ],
   "source": [
    "#Quantifiers\n",
    "text = \"My Phone Number is 012-345-67891\"\n",
    "ruleUsPhone = r'\\d{3}-\\d{3}-\\d{4}'\n",
    "usPhone = re.search(ruleUsPhone, text)\n",
    "usPhone.group()"
   ]
  },
  {
   "cell_type": "code",
   "execution_count": 43,
   "metadata": {
    "ExecuteTime": {
     "end_time": "2021-03-06T17:23:30.046941Z",
     "start_time": "2021-03-06T17:23:30.038996Z"
    },
    "id": "I-D1K7kZw9v8",
    "outputId": "f0e2b284-de63-4976-cc55-3d6d857ddd9a"
   },
   "outputs": [
    {
     "data": {
      "text/plain": [
       "'abc_abc@abc.com'"
      ]
     },
     "execution_count": 43,
     "metadata": {},
     "output_type": "execute_result"
    }
   ],
   "source": [
    "text = 'hello my mail id is abc_abc@abc.com'\n",
    "\n",
    "ruleemail = r'[a-zA-Z0-9._-]+@[a-zA-Z.]+[a-zA-Z]'\n",
    "\n",
    "usPhone = re.search(ruleemail, text)\n",
    "usPhone.group()"
   ]
  },
  {
   "cell_type": "code",
   "execution_count": null,
   "metadata": {},
   "outputs": [],
   "source": []
  },
  {
   "cell_type": "code",
   "execution_count": null,
   "metadata": {},
   "outputs": [],
   "source": []
  }
 ],
 "metadata": {
  "colab": {
   "collapsed_sections": [],
   "name": "RE.ipynb",
   "provenance": []
  },
  "kernelspec": {
   "display_name": "Python 3",
   "language": "python",
   "name": "python3"
  },
  "language_info": {
   "codemirror_mode": {
    "name": "ipython",
    "version": 3
   },
   "file_extension": ".py",
   "mimetype": "text/x-python",
   "name": "python",
   "nbconvert_exporter": "python",
   "pygments_lexer": "ipython3",
   "version": "3.7.3"
  },
  "varInspector": {
   "cols": {
    "lenName": 16,
    "lenType": 16,
    "lenVar": 40
   },
   "kernels_config": {
    "python": {
     "delete_cmd_postfix": "",
     "delete_cmd_prefix": "del ",
     "library": "var_list.py",
     "varRefreshCmd": "print(var_dic_list())"
    },
    "r": {
     "delete_cmd_postfix": ") ",
     "delete_cmd_prefix": "rm(",
     "library": "var_list.r",
     "varRefreshCmd": "cat(var_dic_list()) "
    }
   },
   "types_to_exclude": [
    "module",
    "function",
    "builtin_function_or_method",
    "instance",
    "_Feature"
   ],
   "window_display": false
  }
 },
 "nbformat": 4,
 "nbformat_minor": 1
}
