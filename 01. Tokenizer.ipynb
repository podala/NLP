{
 "cells": [
  {
   "cell_type": "code",
   "execution_count": 1,
   "metadata": {},
   "outputs": [
    {
     "name": "stdout",
     "output_type": "stream",
     "text": [
      "Requirement already satisfied: nltk in c:\\users\\podal\\anaconda3\\lib\\site-packages (3.5)\n",
      "Requirement already satisfied: tqdm in c:\\users\\podal\\anaconda3\\lib\\site-packages (from nltk) (4.47.0)\n",
      "Requirement already satisfied: regex in c:\\users\\podal\\anaconda3\\lib\\site-packages (from nltk) (2020.6.8)\n",
      "Requirement already satisfied: joblib in c:\\users\\podal\\anaconda3\\lib\\site-packages (from nltk) (0.16.0)\n",
      "Requirement already satisfied: click in c:\\users\\podal\\anaconda3\\lib\\site-packages (from nltk) (7.1.2)\n"
     ]
    }
   ],
   "source": [
    "!pip install nltk"
   ]
  },
  {
   "cell_type": "code",
   "execution_count": 2,
   "metadata": {
    "ExecuteTime": {
     "end_time": "2021-03-06T17:44:40.561176Z",
     "start_time": "2021-03-06T17:42:55.326782Z"
    },
    "executionInfo": {
     "elapsed": 1141,
     "status": "ok",
     "timestamp": 1607792781691,
     "user": {
      "displayName": "sujata drall",
      "photoUrl": "",
      "userId": "07858160099359690614"
     },
     "user_tz": -330
    },
    "id": "c_aKoLjm4xjP",
    "run_control": {
     "marked": false
    }
   },
   "outputs": [],
   "source": [
    "import nltk\n",
    "# nltk.download()\n",
    "# nltk.download('punkt')"
   ]
  },
  {
   "cell_type": "code",
   "execution_count": 3,
   "metadata": {},
   "outputs": [
    {
     "name": "stdout",
     "output_type": "stream",
     "text": [
      "showing info https://raw.githubusercontent.com/nltk/nltk_data/gh-pages/index.xml\n"
     ]
    },
    {
     "data": {
      "text/plain": [
       "True"
      ]
     },
     "execution_count": 3,
     "metadata": {},
     "output_type": "execute_result"
    }
   ],
   "source": [
    "nltk.download()"
   ]
  },
  {
   "cell_type": "markdown",
   "metadata": {},
   "source": [
    "#### What is Tokenization?\n",
    "A token is a piece of a whole, so a word is a token in a sentence, and a sentence is a token in a paragraph. Tokenization is the process of splitting a string into a list of tokens."
   ]
  },
  {
   "cell_type": "code",
   "execution_count": 4,
   "metadata": {
    "ExecuteTime": {
     "end_time": "2021-03-06T08:49:36.891910Z",
     "start_time": "2021-03-06T08:49:36.876402Z"
    }
   },
   "outputs": [
    {
     "data": {
      "text/plain": [
       "['My', 'favorite', 'color', 'is', 'blue']"
      ]
     },
     "execution_count": 4,
     "metadata": {},
     "output_type": "execute_result"
    }
   ],
   "source": [
    "mystring = \"My favorite color is blue\"\n",
    "mystring.split()"
   ]
  },
  {
   "cell_type": "code",
   "execution_count": 9,
   "metadata": {
    "ExecuteTime": {
     "end_time": "2021-03-06T17:49:55.494389Z",
     "start_time": "2021-03-06T17:49:55.484419Z"
    }
   },
   "outputs": [
    {
     "data": {
      "text/plain": [
       "['My', 'favorite', 'colors', 'are', 'blue,', 'red,', 'and', 'green.']"
      ]
     },
     "execution_count": 9,
     "metadata": {},
     "output_type": "execute_result"
    }
   ],
   "source": [
    "mystring = \"My favorite colors are blue, red, and green.\"\n",
    "mystring.split()"
   ]
  },
  {
   "cell_type": "markdown",
   "metadata": {},
   "source": [
    "the punctuation marks are grouped in with their adjacent word (e.g. blue,). This is problematic for NLP applications, as the goal of tokenization is generally to divide a set (corpus) of documents into a common set of building blocks that can then be used as a basis for comparison. Hence, it’s no good if “blue” in \"My favorite color is blue\" doesn’t match with “blue” in \"My favorite colors are blue, red, and green.\" since the latter is tokenized as blue, rather than blue."
   ]
  },
  {
   "cell_type": "code",
   "execution_count": 10,
   "metadata": {
    "ExecuteTime": {
     "end_time": "2021-03-06T17:51:05.319770Z",
     "start_time": "2021-03-06T17:51:05.313790Z"
    },
    "executionInfo": {
     "elapsed": 1141,
     "status": "ok",
     "timestamp": 1607792781691,
     "user": {
      "displayName": "sujata drall",
      "photoUrl": "",
      "userId": "07858160099359690614"
     },
     "user_tz": -330
    },
    "id": "c_aKoLjm4xjP",
    "run_control": {
     "marked": false
    }
   },
   "outputs": [
    {
     "name": "stderr",
     "output_type": "stream",
     "text": [
      "[nltk_data] Downloading package punkt to\n",
      "[nltk_data]     C:\\Users\\podal\\AppData\\Roaming\\nltk_data...\n",
      "[nltk_data]   Unzipping tokenizers\\punkt.zip.\n"
     ]
    },
    {
     "data": {
      "text/plain": [
       "True"
      ]
     },
     "execution_count": 10,
     "metadata": {},
     "output_type": "execute_result"
    }
   ],
   "source": [
    "from nltk import word_tokenize\n",
    "from nltk import sent_tokenize\n",
    "import nltk\n",
    "nltk.download('punkt')"
   ]
  },
  {
   "cell_type": "code",
   "execution_count": 11,
   "metadata": {
    "ExecuteTime": {
     "end_time": "2021-03-06T17:51:07.804410Z",
     "start_time": "2021-03-06T17:51:07.772971Z"
    }
   },
   "outputs": [
    {
     "data": {
      "text/plain": [
       "['My',\n",
       " 'favorite',\n",
       " 'colors',\n",
       " 'are',\n",
       " 'blue',\n",
       " ',',\n",
       " 'red',\n",
       " ',',\n",
       " 'and',\n",
       " 'green',\n",
       " '.']"
      ]
     },
     "execution_count": 11,
     "metadata": {},
     "output_type": "execute_result"
    }
   ],
   "source": [
    "word_tokenize(mystring)"
   ]
  },
  {
   "cell_type": "code",
   "execution_count": 12,
   "metadata": {
    "ExecuteTime": {
     "end_time": "2021-03-06T08:24:05.588866Z",
     "start_time": "2021-03-06T08:24:05.571419Z"
    }
   },
   "outputs": [
    {
     "data": {
      "text/plain": [
       "['The', 'quick', 'brown', 'fox', 'jumped', 'over', 'The', 'Big', 'Dog']"
      ]
     },
     "execution_count": 12,
     "metadata": {},
     "output_type": "execute_result"
    }
   ],
   "source": [
    "text = 'The quick brown fox jumped over The Big Dog'\n",
    "word_tokenize(text)"
   ]
  },
  {
   "cell_type": "code",
   "execution_count": 13,
   "metadata": {
    "ExecuteTime": {
     "end_time": "2021-03-06T08:25:25.113696Z",
     "start_time": "2021-03-06T08:25:25.096707Z"
    }
   },
   "outputs": [
    {
     "name": "stdout",
     "output_type": "stream",
     "text": [
      "['My', 'name', 'is', 'George', 'and', 'I', 'love', 'NLP']\n"
     ]
    }
   ],
   "source": [
    "sentence = \"My name is George and I love NLP\"\n",
    "token1 = word_tokenize(sentence)\n",
    "print(token1)"
   ]
  },
  {
   "cell_type": "code",
   "execution_count": 14,
   "metadata": {
    "ExecuteTime": {
     "end_time": "2021-03-06T17:52:14.365797Z",
     "start_time": "2021-03-06T17:52:14.357816Z"
    }
   },
   "outputs": [
    {
     "data": {
      "text/plain": [
       "\"US unveils world's most powerful supercomputer, beats China. The US has unveiled the world's most powerful supercomputer called 'Summit', beating the previous record-holder China's Sunway TaihuLight. With a peak performance of 200,000 trillion calculations per second, it is over twice as fast as Sunway TaihuLight, which is capable of 93,000 trillion calculations per second. Summit has 4,608 servers, which reportedly take up the size of two tennis courts.\""
      ]
     },
     "execution_count": 14,
     "metadata": {},
     "output_type": "execute_result"
    }
   ],
   "source": [
    "sample_text = (\"US unveils world's most powerful supercomputer, beats China. \" \n",
    "               \"The US has unveiled the world's most powerful supercomputer called 'Summit', \" \n",
    "               \"beating the previous record-holder China's Sunway TaihuLight. With a peak performance \"\n",
    "               \"of 200,000 trillion calculations per second, it is over twice as fast as Sunway TaihuLight, \"\n",
    "               \"which is capable of 93,000 trillion calculations per second. Summit has 4,608 servers, \"\n",
    "               \"which reportedly take up the size of two tennis courts.\")\n",
    "sample_text"
   ]
  },
  {
   "cell_type": "code",
   "execution_count": 15,
   "metadata": {
    "ExecuteTime": {
     "end_time": "2021-03-06T17:52:26.577060Z",
     "start_time": "2021-03-06T17:52:26.565092Z"
    }
   },
   "outputs": [
    {
     "data": {
      "text/plain": [
       "[\"US unveils world's most powerful supercomputer, beats China.\",\n",
       " \"The US has unveiled the world's most powerful supercomputer called 'Summit', beating the previous record-holder China's Sunway TaihuLight.\",\n",
       " 'With a peak performance of 200,000 trillion calculations per second, it is over twice as fast as Sunway TaihuLight, which is capable of 93,000 trillion calculations per second.',\n",
       " 'Summit has 4,608 servers, which reportedly take up the size of two tennis courts.']"
      ]
     },
     "execution_count": 15,
     "metadata": {},
     "output_type": "execute_result"
    }
   ],
   "source": [
    "sent_tokenize(sample_text)"
   ]
  },
  {
   "cell_type": "code",
   "execution_count": 21,
   "metadata": {},
   "outputs": [
    {
     "data": {
      "text/plain": [
       "\"US unveils world's most powerful supercomputer, beats China.\""
      ]
     },
     "execution_count": 21,
     "metadata": {},
     "output_type": "execute_result"
    }
   ],
   "source": [
    "sent_tokenize(sample_text)[0]"
   ]
  },
  {
   "cell_type": "code",
   "execution_count": 16,
   "metadata": {
    "ExecuteTime": {
     "end_time": "2021-03-06T08:25:37.837982Z",
     "start_time": "2021-03-06T08:25:37.830005Z"
    }
   },
   "outputs": [
    {
     "name": "stdout",
     "output_type": "stream",
     "text": [
      "['US', 'unveils', 'world', \"'s\", 'most', 'powerful', 'supercomputer', ',', 'beats', 'China', '.', 'The', 'US', 'has', 'unveiled', 'the', 'world', \"'s\", 'most', 'powerful', 'supercomputer', 'called', \"'Summit\", \"'\", ',', 'beating', 'the', 'previous', 'record-holder', 'China', \"'s\", 'Sunway', 'TaihuLight', '.', 'With', 'a', 'peak', 'performance', 'of', '200,000', 'trillion', 'calculations', 'per', 'second', ',', 'it', 'is', 'over', 'twice', 'as', 'fast', 'as', 'Sunway', 'TaihuLight', ',', 'which', 'is', 'capable', 'of', '93,000', 'trillion', 'calculations', 'per', 'second', '.', 'Summit', 'has', '4,608', 'servers', ',', 'which', 'reportedly', 'take', 'up', 'the', 'size', 'of', 'two', 'tennis', 'courts', '.']\n"
     ]
    }
   ],
   "source": [
    "print(word_tokenize(sample_text))"
   ]
  },
  {
   "cell_type": "code",
   "execution_count": 18,
   "metadata": {
    "ExecuteTime": {
     "end_time": "2021-03-06T17:54:55.183984Z",
     "start_time": "2021-03-06T17:54:55.166990Z"
    },
    "executionInfo": {
     "elapsed": 1085,
     "status": "ok",
     "timestamp": 1607792423324,
     "user": {
      "displayName": "sujata drall",
      "photoUrl": "",
      "userId": "07858160099359690614"
     },
     "user_tz": -330
    },
    "id": "kQREzond4xjh"
   },
   "outputs": [
    {
     "ename": "FileNotFoundError",
     "evalue": "[Errno 2] No such file or directory: 'FP.txt'",
     "output_type": "error",
     "traceback": [
      "\u001b[1;31m---------------------------------------------------------------------------\u001b[0m",
      "\u001b[1;31mFileNotFoundError\u001b[0m                         Traceback (most recent call last)",
      "\u001b[1;32m<ipython-input-18-6f572c344d7e>\u001b[0m in \u001b[0;36m<module>\u001b[1;34m\u001b[0m\n\u001b[0;32m      1\u001b[0m \u001b[0mfilename\u001b[0m \u001b[1;33m=\u001b[0m\u001b[1;34m'FP.txt'\u001b[0m\u001b[1;33m\u001b[0m\u001b[1;33m\u001b[0m\u001b[0m\n\u001b[1;32m----> 2\u001b[1;33m \u001b[0mfile\u001b[0m \u001b[1;33m=\u001b[0m \u001b[0mopen\u001b[0m\u001b[1;33m(\u001b[0m\u001b[0mfilename\u001b[0m\u001b[1;33m,\u001b[0m \u001b[1;34m'rt'\u001b[0m\u001b[1;33m)\u001b[0m\u001b[1;33m\u001b[0m\u001b[1;33m\u001b[0m\u001b[0m\n\u001b[0m\u001b[0;32m      3\u001b[0m \u001b[0mtext\u001b[0m \u001b[1;33m=\u001b[0m \u001b[0mfile\u001b[0m\u001b[1;33m.\u001b[0m\u001b[0mread\u001b[0m\u001b[1;33m(\u001b[0m\u001b[1;33m)\u001b[0m\u001b[1;33m\u001b[0m\u001b[1;33m\u001b[0m\u001b[0m\n\u001b[0;32m      4\u001b[0m \u001b[0mfile\u001b[0m\u001b[1;33m.\u001b[0m\u001b[0mclose\u001b[0m\u001b[1;33m(\u001b[0m\u001b[1;33m)\u001b[0m\u001b[1;33m\u001b[0m\u001b[1;33m\u001b[0m\u001b[0m\n",
      "\u001b[1;31mFileNotFoundError\u001b[0m: [Errno 2] No such file or directory: 'FP.txt'"
     ]
    }
   ],
   "source": [
    "filename ='FP.txt'\n",
    "file = open(filename, 'rt')\n",
    "text = file.read()\n",
    "file.close()"
   ]
  },
  {
   "cell_type": "code",
   "execution_count": 24,
   "metadata": {
    "ExecuteTime": {
     "end_time": "2021-03-06T17:54:55.570947Z",
     "start_time": "2021-03-06T17:54:55.563967Z"
    },
    "colab": {
     "base_uri": "https://localhost:8080/",
     "height": 136
    },
    "executionInfo": {
     "elapsed": 1217,
     "status": "ok",
     "timestamp": 1607792426621,
     "user": {
      "displayName": "sujata drall",
      "photoUrl": "",
      "userId": "07858160099359690614"
     },
     "user_tz": -330
    },
    "id": "MzaLR8XW4xji",
    "outputId": "a89fbe05-bd11-48e2-bff6-e928c38d2460"
   },
   "outputs": [
    {
     "data": {
      "text/plain": [
       "'ï»¿This is financial Report of 2019-2020\\n\\n\\n\\nThe share of large borrowers in Indian banksâ€™ total loan portfolios stood at 53% as on March 2019\\n\\nThe gross non-performing assets (NPAs) as a percentage of total loans stood at 9.3% as on March 2019\\n\\nMumbai: Indian banks continue to see an improvement in asset quality with bad loans as a percentage of total loans expected to fall to 9% by March 2020, according to the Financial Stability Report released by the Reserve Bank of India (RBI) on Thursday.\\n\\nThe gross non-performing assets (NPAs) as a percentage of total loans stood at 9.3% as on March 2019.\\n\\nAccording to the bi-annual report, stress tests done on public sector banks (PSBs) revealed that gross non-performing ratio may decline to 12% by March 2020 from 12.6% in March 2019. Private sector banks too could see a fall in gross NPAs to 3.2% from 3.7% during the same period.\\n\\nThese stress tests for credit risk were done to test the resilience of Indian banks against macroeconomic shocks. It encompassed a baseline and two (medium and severe) adverse macroeconomic risk scenarios.\\n\\nUnder the baseline scenario, the capital adequacy for banks is expected to come down to 12.9% in March 2020 from 14% in March 2019.\\n\\n\\n\\nâ€œAs many as five SCBs may have CRAR below the minimum regulatory level of 9% by March 2020 without taking into account any further planned recapitalisation by the government. If macroeconomic conditions deteriorate, nine SCBs may record CRAR below 9% under a severe macro-stress scenario,\" said the report.\\n\\nThe stress test on banksâ€™ credit concentration showed that eight banks, accounting for 14.6% of the total assets, could be affected if top three individual borrowers failed to repay under an extreme scenario. The share of large borrowers in banksâ€™ total loan portfolios and their share in gross NPAs stood at 53% and 82.2%, respectively as on March 2019.\\n\\nâ€œEfforts to improve the balance sheets of banks should therefor continue. Among others, there should be special focus on governance reforms in banks. As far as PSBs are concerned, the proof of the pudding lies in the PSBsâ€™ ability to attract private capital through market discipline rather than being overly dependent on the government for capital,\" said Shaktikanta Das in a foreword to the report.\\n\\n\\nA recent Crisil report also showed a significant reduction in system-wide NPAs to 8% by March 2020, driven by resolution of large-ticket stressed assets and slowing pace of fresh accretion to NPAs. Public sector banks, which account for over 80% of the NPAs in the system, should see their gross NPAs climb down to 10.6% by March 2020 from a peak of 14.6% in March 2018, the report said.\\n\\n\\nFPI surcharge removal, stimulus measures likely to boost markets: Experts\\n2 min read . Updated: 25 Aug 2019, 05:41 PM IST\\nPTI\\nFinance Minister Nirmala Sitharaman on Friday announced rollback of enhanced surcharge on foreign portfolio investors levied in the Budget\\nThe Centre also announced a raft of measures to revive growth momentum, including exempting startups from \\'angel tax\\'\\n\\n\\nNew Delhi: The stock markets may see a relief rally this week after the government removed enhanced surcharge on FPIs and also unveiled various measures to jumpstart growth, analysts said.\\n\\nGiving in to the demands of overseas investors, Finance Minister Nirmala Sitharaman on Friday announced rollback of enhanced surcharge on foreign portfolio investors levied in the Budget.\\n\\nThe Budget proposal to hike surcharge on FPIs had spooked foreign investors, who withdrew more than $3.4 billion ( â‚¹24,500 crore) from domestic equities in July and August. The massive capital outflows also put pressure on the rupee, which slumped to 72-level against the US dollar last week.\\n\\n\"Withdrawal of enhanced surcharge on FPI is a big positive for Indian markets as it could reverse the outflows seen since post Budget. It should also help INR appreciation. Overall, a good sentiment booster for the Indian economy,\" said Rusmik Oza, Head of Fundamental Research, Kotak Securities.\\n\\nThe Centre also announced a raft of measures to revive growth momentum, including exempting startups from \\'angel tax\\', a package to address distress in the auto sector and upfront infusion of â‚¹70,000 crore into public sector banks.\\n\\n\"Withdrawal of the surcharge on FPIs is a shot in the arm for the sagging market. One can now expect reversal of the FPI selling. The market is likely to look up from now on,\" VK Vijayakumar, Chief Investment Strategist, Geojit Financial Services said.\\n\\n\"However, sustained rally in the market will happen only when we have visibility on good earnings growth and reversal of the slowdown underway in the economy. This requires more reforms,\" Vijayakumar added.\\n\\nIn a bid to address slowdown in the auto sector, the government lifted ban on purchase of vehicles by government departments, and allowed additional 15 per cent depreciation on vehicles acquired from now till March 2020.\\n\\nThe revision of one-time registration fees has also been deferred till June 2020.\\n\\nThese steps are likely to prop up the automobile sector and revive demand, said Ashwin Patil, Senior Research Analyst (Auto Sector) at LKP Securities.\\n\\n\"These are just the kind of measures which were required to boost the economy. In the immediate term, we can expect the markets to bounce back on Monday with a gap up opening, and continue the rally for a few sessions to come,\" said Amit Gupta, Co-Founder and CEO of TradingBells.\\n\\nOver the last week, the BSE Sensex lost 649.17 points, or 1.74 per cent. On Friday, the benchmark rebounded 228 points ahead of the finance minister\\'s address.'"
      ]
     },
     "execution_count": 24,
     "metadata": {},
     "output_type": "execute_result"
    }
   ],
   "source": [
    "text"
   ]
  },
  {
   "cell_type": "code",
   "execution_count": 27,
   "metadata": {
    "ExecuteTime": {
     "end_time": "2021-03-06T17:54:56.383134Z",
     "start_time": "2021-03-06T17:54:56.367185Z"
    },
    "colab": {
     "base_uri": "https://localhost:8080/"
    },
    "executionInfo": {
     "elapsed": 973,
     "status": "ok",
     "timestamp": 1607792950880,
     "user": {
      "displayName": "sujata drall",
      "photoUrl": "",
      "userId": "07858160099359690614"
     },
     "user_tz": -330
    },
    "id": "WsYXl8Wz4xjj",
    "outputId": "132d92d1-b539-4f68-a441-be5720c680a3"
   },
   "outputs": [
    {
     "name": "stdout",
     "output_type": "stream",
     "text": [
      "\n",
      "total sentences:  35 \n",
      "last sentence :  On Friday, the benchmark rebounded 228 points ahead of the finance minister's address.\n"
     ]
    }
   ],
   "source": [
    "# split into sentences\n",
    "# nltk.download('punkt')\n",
    "\n",
    "sentences = sent_tokenize(text)\n",
    "\n",
    "print('\\ntotal sentences: ',len(sentences), '\\nlast sentence : ' ,sentences[-1])"
   ]
  },
  {
   "cell_type": "code",
   "execution_count": 28,
   "metadata": {
    "ExecuteTime": {
     "end_time": "2021-03-06T08:25:46.669150Z",
     "start_time": "2021-03-06T08:25:46.659210Z"
    },
    "colab": {
     "base_uri": "https://localhost:8080/"
    },
    "executionInfo": {
     "elapsed": 1143,
     "status": "ok",
     "timestamp": 1607792973961,
     "user": {
      "displayName": "sujata drall",
      "photoUrl": "",
      "userId": "07858160099359690614"
     },
     "user_tz": -330
    },
    "id": "oZSB1vt_4xjk",
    "outputId": "7bcf30ab-4a61-43f0-edde-fbd702042495"
   },
   "outputs": [
    {
     "data": {
      "text/plain": [
       "['On',\n",
       " 'Friday',\n",
       " ',',\n",
       " 'the',\n",
       " 'benchmark',\n",
       " 'rebounded',\n",
       " '228',\n",
       " 'points',\n",
       " 'ahead',\n",
       " 'of',\n",
       " 'the',\n",
       " 'finance',\n",
       " 'minister',\n",
       " \"'s\",\n",
       " 'address',\n",
       " '.']"
      ]
     },
     "execution_count": 28,
     "metadata": {},
     "output_type": "execute_result"
    }
   ],
   "source": [
    "word_tokenize(sentences[-1])"
   ]
  },
  {
   "cell_type": "code",
   "execution_count": 29,
   "metadata": {
    "ExecuteTime": {
     "end_time": "2021-03-06T08:25:49.330516Z",
     "start_time": "2021-03-06T08:25:49.312507Z"
    },
    "colab": {
     "base_uri": "https://localhost:8080/"
    },
    "executionInfo": {
     "elapsed": 1064,
     "status": "ok",
     "timestamp": 1607793038634,
     "user": {
      "displayName": "sujata drall",
      "photoUrl": "",
      "userId": "07858160099359690614"
     },
     "user_tz": -330
    },
    "id": "Yiq2rytG4xjk",
    "outputId": "556953c6-c29d-4f3f-bd25-dfd72ed6e89d"
   },
   "outputs": [
    {
     "name": "stdout",
     "output_type": "stream",
     "text": [
      "1053 \n",
      "\n",
      " ['ï', '»', '¿This', 'is', 'financial', 'Report', 'of', '2019-2020', 'The', 'share', 'of', 'large', 'borrowers', 'in', 'Indian', 'banksâ€™', 'total', 'loan', 'portfolios', 'stood', 'at', '53', '%', 'as', 'on', 'March', '2019', 'The', 'gross', 'non-performing', 'assets', '(', 'NPAs', ')', 'as', 'a', 'percentage', 'of', 'total', 'loans', 'stood', 'at', '9.3', '%', 'as', 'on', 'March', '2019', 'Mumbai', ':', 'Indian', 'banks', 'continue', 'to', 'see', 'an', 'improvement', 'in', 'asset', 'quality', 'with', 'bad', 'loans', 'as', 'a', 'percentage', 'of', 'total', 'loans', 'expected', 'to', 'fall', 'to', '9', '%', 'by', 'March', '2020', ',', 'according', 'to', 'the', 'Financial', 'Stability', 'Report', 'released', 'by', 'the', 'Reserve', 'Bank', 'of', 'India', '(', 'RBI', ')', 'on', 'Thursday', '.', 'The', 'gross']\n"
     ]
    }
   ],
   "source": [
    "tokens = word_tokenize(text)\n",
    "print(len(tokens),'\\n\\n', tokens[:100])"
   ]
  },
  {
   "cell_type": "code",
   "execution_count": 41,
   "metadata": {
    "ExecuteTime": {
     "end_time": "2021-03-06T08:25:49.782963Z",
     "start_time": "2021-03-06T08:25:49.775960Z"
    },
    "colab": {
     "base_uri": "https://localhost:8080/"
    },
    "executionInfo": {
     "elapsed": 1107,
     "status": "ok",
     "timestamp": 1607793628140,
     "user": {
      "displayName": "sujata drall",
      "photoUrl": "",
      "userId": "07858160099359690614"
     },
     "user_tz": -330
    },
    "id": "PXGrrdYX4xjl",
    "outputId": "9613f380-cf4a-4d0a-96b5-8800052f8c4d"
   },
   "outputs": [
    {
     "name": "stdout",
     "output_type": "stream",
     "text": [
      "['ï', 'is', 'financial', 'report', 'of', 'the', 'share', 'of', 'large', 'borrowers', 'in', 'indian', 'total', 'loan', 'portfolios', 'stood', 'at', 'as', 'on', 'march', 'the', 'gross', 'assets', 'npas', 'as', 'a', 'percentage', 'of', 'total', 'loans', 'stood', 'at', 'as', 'on', 'march', 'mumbai', 'indian', 'banks', 'continue', 'to', 'see', 'an', 'improvement', 'in', 'asset', 'quality', 'with', 'bad', 'loans', 'as', 'a', 'percentage', 'of', 'total', 'loans', 'expected', 'to', 'fall', 'to', 'by', 'march', 'according', 'to', 'the', 'financial', 'stability', 'report', 'released', 'by', 'the', 'reserve', 'bank', 'of', 'india', 'rbi', 'on', 'thursday', 'the', 'gross', 'assets', 'npas', 'as', 'a', 'percentage', 'of', 'total', 'loans', 'stood', 'at', 'as', 'on', 'march', 'according', 'to', 'the', 'report', 'stress', 'tests', 'done', 'on', 'public', 'sector', 'banks', 'psbs', 'revealed', 'that', 'gross', 'ratio', 'may', 'decline', 'to', 'by', 'march', 'from', 'in', 'march', 'private', 'sector', 'banks', 'too', 'could', 'see', 'a', 'fall', 'in', 'gross', 'npas', 'to', 'from', 'during', 'the', 'same', 'period', 'these', 'stress', 'tests', 'for', 'credit', 'risk', 'were', 'done', 'to', 'test', 'the', 'resilience', 'of', 'indian', 'banks', 'against', 'macroeconomic', 'shocks', 'it', 'encompassed', 'a', 'baseline', 'and', 'two', 'medium', 'and', 'severe', 'adverse', 'macroeconomic', 'risk', 'scenarios', 'under', 'the', 'baseline', 'scenario', 'the', 'capital', 'adequacy', 'for', 'banks', 'is', 'expected', 'to', 'come', 'down', 'to', 'in', 'march', 'from', 'in', 'march', 'many', 'as', 'five', 'scbs', 'may', 'have', 'crar', 'below', 'the', 'minimum', 'regulatory', 'level', 'of', 'by', 'march', 'without', 'taking', 'into', 'account', 'any', 'further', 'planned', 'recapitalisation', 'by', 'the', 'government', 'if', 'macroeconomic', 'conditions', 'deteriorate', 'nine', 'scbs', 'may', 'record', 'crar', 'below', 'under', 'a', 'severe', 'scenario', 'said', 'the', 'report', 'the', 'stress', 'test', 'on', 'credit', 'concentration', 'showed', 'that', 'eight', 'banks', 'accounting', 'for', 'of', 'the', 'total', 'assets', 'could', 'be', 'affected', 'if', 'top', 'three', 'individual', 'borrowers', 'failed', 'to', 'repay', 'under', 'an', 'extreme', 'scenario', 'the', 'share', 'of', 'large', 'borrowers', 'in', 'total', 'loan', 'portfolios', 'and', 'their', 'share', 'in', 'gross', 'npas', 'stood', 'at', 'and', 'respectively', 'as', 'on', 'march', 'to', 'improve', 'the', 'balance', 'sheets', 'of', 'banks', 'should', 'therefor', 'continue', 'among', 'others', 'there', 'should', 'be', 'special', 'focus', 'on', 'governance', 'reforms', 'in', 'banks', 'as', 'far', 'as', 'psbs', 'are', 'concerned', 'the', 'proof', 'of', 'the', 'pudding', 'lies', 'in', 'the', 'ability', 'to', 'attract', 'private', 'capital', 'through', 'market', 'discipline', 'rather', 'than', 'being', 'overly', 'dependent', 'on', 'the', 'government', 'for', 'capital', 'said', 'shaktikanta', 'das', 'in', 'a', 'foreword', 'to', 'the', 'report', 'a', 'recent', 'crisil', 'report', 'also', 'showed', 'a', 'significant', 'reduction', 'in', 'npas', 'to', 'by', 'march', 'driven', 'by', 'resolution', 'of', 'stressed', 'assets', 'and', 'slowing', 'pace', 'of', 'fresh', 'accretion', 'to', 'npas', 'public', 'sector', 'banks', 'which', 'account', 'for', 'over', 'of', 'the', 'npas', 'in', 'the', 'system', 'should', 'see', 'their', 'gross', 'npas', 'climb', 'down', 'to', 'by', 'march', 'from', 'a', 'peak', 'of', 'in', 'march', 'the', 'report', 'said', 'fpi', 'surcharge', 'removal', 'stimulus', 'measures', 'likely', 'to', 'boost', 'markets', 'experts', 'min', 'read', 'updated', 'aug', 'pm', 'ist', 'pti', 'finance', 'minister', 'nirmala', 'sitharaman', 'on', 'friday', 'announced', 'rollback', 'of', 'enhanced', 'surcharge', 'on', 'foreign', 'portfolio', 'investors', 'levied', 'in', 'the', 'budget', 'the', 'centre', 'also', 'announced', 'a', 'raft', 'of', 'measures', 'to', 'revive', 'growth', 'momentum', 'including', 'exempting', 'startups', 'from', 'new', 'delhi', 'the', 'stock', 'markets', 'may', 'see', 'a', 'relief', 'rally', 'this', 'week', 'after', 'the', 'government', 'removed', 'enhanced', 'surcharge', 'on', 'fpis', 'and', 'also', 'unveiled', 'various', 'measures', 'to', 'jumpstart', 'growth', 'analysts', 'said', 'giving', 'in', 'to', 'the', 'demands', 'of', 'overseas', 'investors', 'finance', 'minister', 'nirmala', 'sitharaman', 'on', 'friday', 'announced', 'rollback', 'of', 'enhanced', 'surcharge', 'on', 'foreign', 'portfolio', 'investors', 'levied', 'in', 'the', 'budget', 'the', 'budget', 'proposal', 'to', 'hike', 'surcharge', 'on', 'fpis', 'had', 'spooked', 'foreign', 'investors', 'who', 'withdrew', 'more', 'than', 'billion', 'crore', 'from', 'domestic', 'equities', 'in', 'july', 'and', 'august', 'the', 'massive', 'capital', 'outflows', 'also', 'put', 'pressure', 'on', 'the', 'rupee', 'which', 'slumped', 'to', 'against', 'the', 'us', 'dollar', 'last', 'week', 'withdrawal', 'of', 'enhanced', 'surcharge', 'on', 'fpi', 'is', 'a', 'big', 'positive', 'for', 'indian', 'markets', 'as', 'it', 'could', 'reverse', 'the', 'outflows', 'seen', 'since', 'post', 'budget', 'it', 'should', 'also', 'help', 'inr', 'appreciation', 'overall', 'a', 'good', 'sentiment', 'booster', 'for', 'the', 'indian', 'economy', 'said', 'rusmik', 'oza', 'head', 'of', 'fundamental', 'research', 'kotak', 'securities', 'the', 'centre', 'also', 'announced', 'a', 'raft', 'of', 'measures', 'to', 'revive', 'growth', 'momentum', 'including', 'exempting', 'startups', 'from', 'tax', 'a', 'package', 'to', 'address', 'distress', 'in', 'the', 'auto', 'sector', 'and', 'upfront', 'infusion', 'of', 'crore', 'into', 'public', 'sector', 'banks', 'withdrawal', 'of', 'the', 'surcharge', 'on', 'fpis', 'is', 'a', 'shot', 'in', 'the', 'arm', 'for', 'the', 'sagging', 'market', 'one', 'can', 'now', 'expect', 'reversal', 'of', 'the', 'fpi', 'selling', 'the', 'market', 'is', 'likely', 'to', 'look', 'up', 'from', 'now', 'on', 'vk', 'vijayakumar', 'chief', 'investment', 'strategist', 'geojit', 'financial', 'services', 'said', 'however', 'sustained', 'rally', 'in', 'the', 'market', 'will', 'happen', 'only', 'when', 'we', 'have', 'visibility', 'on', 'good', 'earnings', 'growth', 'and', 'reversal', 'of', 'the', 'slowdown', 'underway', 'in', 'the', 'economy', 'this', 'requires', 'more', 'reforms', 'vijayakumar', 'added', 'in', 'a', 'bid', 'to', 'address', 'slowdown', 'in', 'the', 'auto', 'sector', 'the', 'government', 'lifted', 'ban', 'on', 'purchase', 'of', 'vehicles', 'by', 'government', 'departments', 'and', 'allowed', 'additional', 'per', 'cent', 'depreciation', 'on', 'vehicles', 'acquired', 'from', 'now', 'till', 'march', 'the', 'revision', 'of', 'registration', 'fees', 'has', 'also', 'been', 'deferred', 'till', 'june', 'these', 'steps', 'are', 'likely', 'to', 'prop', 'up', 'the', 'automobile', 'sector', 'and', 'revive', 'demand', 'said', 'ashwin', 'patil', 'senior', 'research', 'analyst', 'auto', 'sector', 'at', 'lkp', 'securities', 'these', 'are', 'just', 'the', 'kind', 'of', 'measures', 'which', 'were', 'required', 'to', 'boost', 'the', 'economy', 'in', 'the', 'immediate', 'term', 'we', 'can', 'expect', 'the', 'markets', 'to', 'bounce', 'back', 'on', 'monday', 'with', 'a', 'gap', 'up', 'opening', 'and', 'continue', 'the', 'rally', 'for', 'a', 'few', 'sessions', 'to', 'come', 'said', 'amit', 'gupta', 'and', 'ceo', 'of', 'tradingbells', 'over', 'the', 'last', 'week', 'the', 'bse', 'sensex', 'lost', 'points', 'or', 'per', 'cent', 'on', 'friday', 'the', 'benchmark', 'rebounded', 'points', 'ahead', 'of', 'the', 'finance', 'minister', 'address']\n"
     ]
    }
   ],
   "source": [
    "words = [word.lower() for word in tokens if word.isalpha()]\n",
    "print(words)"
   ]
  },
  {
   "cell_type": "code",
   "execution_count": 42,
   "metadata": {},
   "outputs": [
    {
     "name": "stdout",
     "output_type": "stream",
     "text": [
      "ï is financial report of the share of large borrowers in indian total loan portfolios stood at as on march the gross assets npas as a percentage of total loans stood at as on march mumbai indian banks continue to see an improvement in asset quality with bad loans as a percentage of total loans expected to fall to by march according to the financial stability report released by the reserve bank of india rbi on thursday the gross assets npas as a percentage of total loans stood at as on march according to the report stress tests done on public sector banks psbs revealed that gross ratio may decline to by march from in march private sector banks too could see a fall in gross npas to from during the same period these stress tests for credit risk were done to test the resilience of indian banks against macroeconomic shocks it encompassed a baseline and two medium and severe adverse macroeconomic risk scenarios under the baseline scenario the capital adequacy for banks is expected to come down to in march from in march many as five scbs may have crar below the minimum regulatory level of by march without taking into account any further planned recapitalisation by the government if macroeconomic conditions deteriorate nine scbs may record crar below under a severe scenario said the report the stress test on credit concentration showed that eight banks accounting for of the total assets could be affected if top three individual borrowers failed to repay under an extreme scenario the share of large borrowers in total loan portfolios and their share in gross npas stood at and respectively as on march to improve the balance sheets of banks should therefor continue among others there should be special focus on governance reforms in banks as far as psbs are concerned the proof of the pudding lies in the ability to attract private capital through market discipline rather than being overly dependent on the government for capital said shaktikanta das in a foreword to the report a recent crisil report also showed a significant reduction in npas to by march driven by resolution of stressed assets and slowing pace of fresh accretion to npas public sector banks which account for over of the npas in the system should see their gross npas climb down to by march from a peak of in march the report said fpi surcharge removal stimulus measures likely to boost markets experts min read updated aug pm ist pti finance minister nirmala sitharaman on friday announced rollback of enhanced surcharge on foreign portfolio investors levied in the budget the centre also announced a raft of measures to revive growth momentum including exempting startups from new delhi the stock markets may see a relief rally this week after the government removed enhanced surcharge on fpis and also unveiled various measures to jumpstart growth analysts said giving in to the demands of overseas investors finance minister nirmala sitharaman on friday announced rollback of enhanced surcharge on foreign portfolio investors levied in the budget the budget proposal to hike surcharge on fpis had spooked foreign investors who withdrew more than billion crore from domestic equities in july and august the massive capital outflows also put pressure on the rupee which slumped to against the us dollar last week withdrawal of enhanced surcharge on fpi is a big positive for indian markets as it could reverse the outflows seen since post budget it should also help inr appreciation overall a good sentiment booster for the indian economy said rusmik oza head of fundamental research kotak securities the centre also announced a raft of measures to revive growth momentum including exempting startups from tax a package to address distress in the auto sector and upfront infusion of crore into public sector banks withdrawal of the surcharge on fpis is a shot in the arm for the sagging market one can now expect reversal of the fpi selling the market is likely to look up from now on vk vijayakumar chief investment strategist geojit financial services said however sustained rally in the market will happen only when we have visibility on good earnings growth and reversal of the slowdown underway in the economy this requires more reforms vijayakumar added in a bid to address slowdown in the auto sector the government lifted ban on purchase of vehicles by government departments and allowed additional per cent depreciation on vehicles acquired from now till march the revision of registration fees has also been deferred till june these steps are likely to prop up the automobile sector and revive demand said ashwin patil senior research analyst auto sector at lkp securities these are just the kind of measures which were required to boost the economy in the immediate term we can expect the markets to bounce back on monday with a gap up opening and continue the rally for a few sessions to come said amit gupta and ceo of tradingbells over the last week the bse sensex lost points or per cent on friday the benchmark rebounded points ahead of the finance minister address\n"
     ]
    }
   ],
   "source": [
    "words =\" \".join([word.lower() for word in tokens if word.isalpha()])\n",
    "print(words)"
   ]
  },
  {
   "cell_type": "code",
   "execution_count": 31,
   "metadata": {
    "ExecuteTime": {
     "end_time": "2021-03-06T08:25:53.005868Z",
     "start_time": "2021-03-06T08:25:52.999359Z"
    },
    "id": "i9plsoVC4xjl",
    "outputId": "432cb473-faf9-4f0d-8563-eabcc60000b6"
   },
   "outputs": [
    {
     "name": "stdout",
     "output_type": "stream",
     "text": [
      "['53', '2019', '2019', '9', '2020', '2019', '12', '2020', '2019', '2020', '14', '9', '2020', '9', '53', '8', '2020', '80', '2020', '2018', '2', '25', '2019', '15', '2020', '2020', '228']\n"
     ]
    }
   ],
   "source": [
    "words2 = [word for word in tokens if word.isnumeric()]\n",
    "print(words2)"
   ]
  },
  {
   "cell_type": "code",
   "execution_count": 32,
   "metadata": {
    "ExecuteTime": {
     "end_time": "2021-03-06T08:51:38.667630Z",
     "start_time": "2021-03-06T08:51:38.659677Z"
    }
   },
   "outputs": [
    {
     "data": {
      "text/plain": [
       "['@', 'john', 'lol', 'that', 'was', '#', 'awesome', ':', ')']"
      ]
     },
     "execution_count": 32,
     "metadata": {},
     "output_type": "execute_result"
    }
   ],
   "source": [
    "word_tokenize(\"@john lol that was #awesome :)\")"
   ]
  },
  {
   "cell_type": "markdown",
   "metadata": {},
   "source": [
    "most likely that we’d prefer for\n",
    "\n",
    "- @ and john to be tokenized together as @john,\n",
    "- \\#  and awesome to be tokenized together as #awesome.\n",
    "This is because we’d expect that word usage in the context of hastags or at-mentions is likely different from usage in plain text.\n",
    "\n",
    "we would prefer that : and ) to be tokenized together as :), as :) is certainly more informative (e.g. for sentiment analysis) than the sum of its parts."
   ]
  },
  {
   "cell_type": "code",
   "execution_count": 33,
   "metadata": {
    "ExecuteTime": {
     "end_time": "2021-03-06T17:58:11.369843Z",
     "start_time": "2021-03-06T17:58:11.360866Z"
    }
   },
   "outputs": [
    {
     "data": {
      "text/plain": [
       "['@john', 'lol', 'that', 'was', '#awesome', ':)']"
      ]
     },
     "execution_count": 33,
     "metadata": {},
     "output_type": "execute_result"
    }
   ],
   "source": [
    "from nltk.tokenize import TweetTokenizer\n",
    "tweet_tokenizer = TweetTokenizer()\n",
    "\n",
    "tweet_tokenizer.tokenize(\"@john lol that was #awesome :)\")"
   ]
  },
  {
   "cell_type": "code",
   "execution_count": 34,
   "metadata": {
    "ExecuteTime": {
     "end_time": "2021-03-07T14:25:37.081007Z",
     "start_time": "2021-03-07T14:25:31.467113Z"
    },
    "scrolled": true
   },
   "outputs": [
    {
     "name": "stdout",
     "output_type": "stream",
     "text": [
      "Total Categories: 15\n"
     ]
    }
   ],
   "source": [
    "# load the Brown Corpus\n",
    "from nltk.corpus import brown\n",
    "# nltk.download('brown')\n",
    "\n",
    "# total categories\n",
    "print('Total Categories:', len(brown.categories()))"
   ]
  },
  {
   "cell_type": "code",
   "execution_count": 35,
   "metadata": {
    "ExecuteTime": {
     "end_time": "2021-03-07T14:25:40.732954Z",
     "start_time": "2021-03-07T14:25:40.725973Z"
    }
   },
   "outputs": [
    {
     "name": "stdout",
     "output_type": "stream",
     "text": [
      "['adventure', 'belles_lettres', 'editorial', 'fiction', 'government', 'hobbies', 'humor', 'learned', 'lore', 'mystery', 'news', 'religion', 'reviews', 'romance', 'science_fiction']\n"
     ]
    }
   ],
   "source": [
    "# print the categories\n",
    "print(brown.categories())"
   ]
  },
  {
   "cell_type": "code",
   "execution_count": 36,
   "metadata": {
    "ExecuteTime": {
     "end_time": "2021-03-07T14:25:59.341852Z",
     "start_time": "2021-03-07T14:25:59.263170Z"
    }
   },
   "outputs": [
    {
     "data": {
      "text/plain": [
       "[['There', 'were', 'thirty-eight', 'patients', 'on', 'the', 'bus', 'the', 'morning', 'I', 'left', 'for', 'Hanover', ',', 'most', 'of', 'them', 'disturbed', 'and', 'hallucinating', '.'], ['An', 'interne', ',', 'a', 'nurse', 'and', 'two', 'attendants', 'were', 'in', 'charge', 'of', 'us', '.'], ...]"
      ]
     },
     "execution_count": 36,
     "metadata": {},
     "output_type": "execute_result"
    }
   ],
   "source": [
    "# tokenized sentences\n",
    "brown.sents(categories='mystery')"
   ]
  },
  {
   "cell_type": "code",
   "execution_count": 37,
   "metadata": {
    "jupyter": {
     "source_hidden": true
    }
   },
   "outputs": [
    {
     "data": {
      "text/plain": [
       "['There were thirty-eight patients on the bus the morning I left for Hanover , most of them disturbed and hallucinating .',\n",
       " 'An interne , a nurse and two attendants were in charge of us .',\n",
       " \"I felt lonely and depressed as I stared out the bus window at Chicago's grim , dirty West Side .\",\n",
       " 'It seemed incredible , as I listened to the monotonous drone of voices and smelled the fetid odors coming from the patients , that technically I was a ward of the state of Illinois , going to a hospital for the mentally ill .',\n",
       " 'I suddenly thought of Mary Jane Brennan , the way her pretty eyes could flash with anger , her quiet competence , the gentleness and sweetness that lay just beneath the surface of her defenses .']"
      ]
     },
     "execution_count": 37,
     "metadata": {},
     "output_type": "execute_result"
    }
   ],
   "source": [
    "# get sentences in natural form\n",
    "sentences = brown.sents(categories='mystery')\n",
    "sentences = [' '.join(sentence_token) for sentence_token in sentences]\n",
    "sentences[0:5] # viewing the first 5 sentences\n"
   ]
  },
  {
   "cell_type": "code",
   "execution_count": 19,
   "metadata": {},
   "outputs": [
    {
     "ename": "NameError",
     "evalue": "name 'sentences' is not defined",
     "output_type": "error",
     "traceback": [
      "\u001b[1;31m---------------------------------------------------------------------------\u001b[0m",
      "\u001b[1;31mNameError\u001b[0m                                 Traceback (most recent call last)",
      "\u001b[1;32m<ipython-input-19-317bbbf38984>\u001b[0m in \u001b[0;36m<module>\u001b[1;34m\u001b[0m\n\u001b[1;32m----> 1\u001b[1;33m \u001b[0mlen\u001b[0m\u001b[1;33m(\u001b[0m\u001b[0msentences\u001b[0m\u001b[1;33m)\u001b[0m\u001b[1;33m\u001b[0m\u001b[1;33m\u001b[0m\u001b[0m\n\u001b[0m",
      "\u001b[1;31mNameError\u001b[0m: name 'sentences' is not defined"
     ]
    }
   ],
   "source": [
    "len(sentences)"
   ]
  },
  {
   "cell_type": "code",
   "execution_count": null,
   "metadata": {},
   "outputs": [],
   "source": []
  }
 ],
 "metadata": {
  "colab": {
   "name": "Tokenizer.ipynb",
   "provenance": []
  },
  "kernelspec": {
   "display_name": "Python 3",
   "language": "python",
   "name": "python3"
  },
  "language_info": {
   "codemirror_mode": {
    "name": "ipython",
    "version": 3
   },
   "file_extension": ".py",
   "mimetype": "text/x-python",
   "name": "python",
   "nbconvert_exporter": "python",
   "pygments_lexer": "ipython3",
   "version": "3.8.3"
  },
  "varInspector": {
   "cols": {
    "lenName": 16,
    "lenType": 16,
    "lenVar": 40
   },
   "kernels_config": {
    "python": {
     "delete_cmd_postfix": "",
     "delete_cmd_prefix": "del ",
     "library": "var_list.py",
     "varRefreshCmd": "print(var_dic_list())"
    },
    "r": {
     "delete_cmd_postfix": ") ",
     "delete_cmd_prefix": "rm(",
     "library": "var_list.r",
     "varRefreshCmd": "cat(var_dic_list()) "
    }
   },
   "types_to_exclude": [
    "module",
    "function",
    "builtin_function_or_method",
    "instance",
    "_Feature"
   ],
   "window_display": false
  }
 },
 "nbformat": 4,
 "nbformat_minor": 4
}
