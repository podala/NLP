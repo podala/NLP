{
 "cells": [
  {
   "cell_type": "code",
   "execution_count": 1,
   "metadata": {
    "ExecuteTime": {
     "end_time": "2021-03-13T14:53:59.145536Z",
     "start_time": "2021-03-13T14:53:59.134564Z"
    },
    "colab": {
     "base_uri": "https://localhost:8080/"
    },
    "executionInfo": {
     "elapsed": 989,
     "status": "ok",
     "timestamp": 1604835115999,
     "user": {
      "displayName": "Raghav Nyapati",
      "photoUrl": "",
      "userId": "13728981372697321629"
     },
     "user_tz": -330
    },
    "id": "HgadYtldmJNK",
    "outputId": "fe0418d7-b132-4368-9e40-04f79a79de3d"
   },
   "outputs": [],
   "source": [
    "import pandas as pd\n",
    "\n",
    "from sklearn.feature_extraction.text import TfidfVectorizer\n",
    "\n",
    "pd.options.display.max_columns = None"
   ]
  },
  {
   "cell_type": "code",
   "execution_count": 2,
   "metadata": {
    "ExecuteTime": {
     "end_time": "2021-03-13T14:53:59.145536Z",
     "start_time": "2021-03-13T14:53:59.134564Z"
    },
    "colab": {
     "base_uri": "https://localhost:8080/"
    },
    "executionInfo": {
     "elapsed": 989,
     "status": "ok",
     "timestamp": 1604835115999,
     "user": {
      "displayName": "Raghav Nyapati",
      "photoUrl": "",
      "userId": "13728981372697321629"
     },
     "user_tz": -330
    },
    "id": "HgadYtldmJNK",
    "outputId": "fe0418d7-b132-4368-9e40-04f79a79de3d"
   },
   "outputs": [
    {
     "data": {
      "text/plain": [
       "['Data Science is an overlap between Arts and Science',\n",
       " 'Generally, Arts graduates are right-brained and Science graduates are left-brained',\n",
       " 'Excelling in both Arts and Science at a time becomes difficult',\n",
       " 'Natural Language Processing is a part of Data Science']"
      ]
     },
     "execution_count": 2,
     "metadata": {},
     "output_type": "execute_result"
    }
   ],
   "source": [
    "corpus = [\n",
    "\n",
    "'Data Science is an overlap between Arts and Science',\n",
    "\n",
    "'Generally, Arts graduates are right-brained and Science graduates are left-brained',\n",
    "\n",
    "'Excelling in both Arts and Science at a time becomes difficult',\n",
    "\n",
    "'Natural Language Processing is a part of Data Science'\n",
    "\n",
    "]\n",
    "\n",
    "\n",
    "corpus"
   ]
  },
  {
   "cell_type": "code",
   "execution_count": 3,
   "metadata": {
    "ExecuteTime": {
     "end_time": "2021-03-13T14:47:01.612773Z",
     "start_time": "2021-03-13T14:47:01.587915Z"
    },
    "colab": {
     "base_uri": "https://localhost:8080/"
    },
    "executionInfo": {
     "elapsed": 989,
     "status": "ok",
     "timestamp": 1604835126994,
     "user": {
      "displayName": "Raghav Nyapati",
      "photoUrl": "",
      "userId": "13728981372697321629"
     },
     "user_tz": -330
    },
    "id": "NSmVQCfvmIiF",
    "outputId": "c9663cb1-9db8-4322-cf0d-1f22291d237f"
   },
   "outputs": [],
   "source": [
    "tfidf_model = TfidfVectorizer()\n",
    "\n",
    "data = tfidf_model.fit_transform(corpus)"
   ]
  },
  {
   "cell_type": "code",
   "execution_count": 4,
   "metadata": {
    "ExecuteTime": {
     "end_time": "2021-03-13T14:47:02.879420Z",
     "start_time": "2021-03-13T14:47:02.871440Z"
    }
   },
   "outputs": [
    {
     "data": {
      "text/plain": [
       "<4x26 sparse matrix of type '<class 'numpy.float64'>'\n",
       "\twith 35 stored elements in Compressed Sparse Row format>"
      ]
     },
     "execution_count": 4,
     "metadata": {},
     "output_type": "execute_result"
    }
   ],
   "source": [
    "data"
   ]
  },
  {
   "cell_type": "code",
   "execution_count": 5,
   "metadata": {
    "ExecuteTime": {
     "end_time": "2021-03-13T14:47:33.335976Z",
     "start_time": "2021-03-13T14:47:33.327999Z"
    },
    "scrolled": true
   },
   "outputs": [
    {
     "data": {
      "text/plain": [
       "['an',\n",
       " 'and',\n",
       " 'are',\n",
       " 'arts',\n",
       " 'at',\n",
       " 'becomes',\n",
       " 'between',\n",
       " 'both',\n",
       " 'brained',\n",
       " 'data',\n",
       " 'difficult',\n",
       " 'excelling',\n",
       " 'generally',\n",
       " 'graduates',\n",
       " 'in',\n",
       " 'is',\n",
       " 'language',\n",
       " 'left',\n",
       " 'natural',\n",
       " 'of',\n",
       " 'overlap',\n",
       " 'part',\n",
       " 'processing',\n",
       " 'right',\n",
       " 'science',\n",
       " 'time']"
      ]
     },
     "execution_count": 5,
     "metadata": {},
     "output_type": "execute_result"
    }
   ],
   "source": [
    "tfidf_model.get_feature_names()"
   ]
  },
  {
   "cell_type": "code",
   "execution_count": 6,
   "metadata": {
    "ExecuteTime": {
     "end_time": "2021-03-12T17:03:14.458477Z",
     "start_time": "2021-03-12T17:03:14.443049Z"
    }
   },
   "outputs": [
    {
     "data": {
      "text/plain": [
       "{'data': 9,\n",
       " 'science': 24,\n",
       " 'is': 15,\n",
       " 'an': 0,\n",
       " 'overlap': 20,\n",
       " 'between': 6,\n",
       " 'arts': 3,\n",
       " 'and': 1,\n",
       " 'generally': 12,\n",
       " 'graduates': 13,\n",
       " 'are': 2,\n",
       " 'right': 23,\n",
       " 'brained': 8,\n",
       " 'left': 17,\n",
       " 'excelling': 11,\n",
       " 'in': 14,\n",
       " 'both': 7,\n",
       " 'at': 4,\n",
       " 'time': 25,\n",
       " 'becomes': 5,\n",
       " 'difficult': 10,\n",
       " 'natural': 18,\n",
       " 'language': 16,\n",
       " 'processing': 22,\n",
       " 'part': 21,\n",
       " 'of': 19}"
      ]
     },
     "execution_count": 6,
     "metadata": {},
     "output_type": "execute_result"
    }
   ],
   "source": [
    "tfidf_model.vocabulary_"
   ]
  },
  {
   "cell_type": "code",
   "execution_count": 7,
   "metadata": {
    "ExecuteTime": {
     "end_time": "2021-03-13T14:49:08.199104Z",
     "start_time": "2021-03-13T14:49:08.178282Z"
    },
    "colab": {
     "base_uri": "https://localhost:8080/"
    },
    "executionInfo": {
     "elapsed": 989,
     "status": "ok",
     "timestamp": 1604835126994,
     "user": {
      "displayName": "Raghav Nyapati",
      "photoUrl": "",
      "userId": "13728981372697321629"
     },
     "user_tz": -330
    },
    "id": "NSmVQCfvmIiF",
    "outputId": "c9663cb1-9db8-4322-cf0d-1f22291d237f"
   },
   "outputs": [
    {
     "name": "stdout",
     "output_type": "stream",
     "text": [
      "[[0.40332811 0.25743911 0.         0.25743911 0.         0.\n",
      "  0.40332811 0.         0.         0.31798852 0.         0.\n",
      "  0.         0.         0.         0.31798852 0.         0.\n",
      "  0.         0.         0.40332811 0.         0.         0.\n",
      "  0.42094668 0.        ]\n",
      " [0.         0.159139   0.49864399 0.159139   0.         0.\n",
      "  0.         0.         0.49864399 0.         0.         0.\n",
      "  0.24932199 0.49864399 0.         0.         0.         0.24932199\n",
      "  0.         0.         0.         0.         0.         0.24932199\n",
      "  0.13010656 0.        ]\n",
      " [0.         0.22444946 0.         0.22444946 0.35164346 0.35164346\n",
      "  0.         0.35164346 0.         0.         0.35164346 0.35164346\n",
      "  0.         0.         0.35164346 0.         0.         0.\n",
      "  0.         0.         0.         0.         0.         0.\n",
      "  0.18350214 0.35164346]\n",
      " [0.         0.         0.         0.         0.         0.\n",
      "  0.         0.         0.         0.30887228 0.         0.\n",
      "  0.         0.         0.         0.30887228 0.39176533 0.\n",
      "  0.39176533 0.39176533 0.         0.39176533 0.39176533 0.\n",
      "  0.2044394  0.        ]]\n"
     ]
    }
   ],
   "source": [
    "print(data.todense())"
   ]
  },
  {
   "cell_type": "code",
   "execution_count": 14,
   "metadata": {},
   "outputs": [
    {
     "data": {
      "text/plain": [
       "[(1, 9), (2, 10), (3, 11), (4, 56)]"
      ]
     },
     "execution_count": 14,
     "metadata": {},
     "output_type": "execute_result"
    }
   ],
   "source": [
    "a=[1,2,3,4]\n",
    "b=[9,10,11,56]\n",
    "list(zip(a,b))"
   ]
  },
  {
   "cell_type": "code",
   "execution_count": 15,
   "metadata": {
    "ExecuteTime": {
     "end_time": "2021-03-13T14:49:50.424746Z",
     "start_time": "2021-03-13T14:49:50.419794Z"
    }
   },
   "outputs": [],
   "source": [
    "words_idf = dict(zip(tfidf_model.get_feature_names(), tfidf_model.idf_))"
   ]
  },
  {
   "cell_type": "code",
   "execution_count": 16,
   "metadata": {
    "ExecuteTime": {
     "end_time": "2021-03-13T14:49:52.535674Z",
     "start_time": "2021-03-13T14:49:52.522710Z"
    },
    "scrolled": true
   },
   "outputs": [
    {
     "data": {
      "text/plain": [
       "[('science', 1.0),\n",
       " ('and', 1.2231435513142097),\n",
       " ('arts', 1.2231435513142097),\n",
       " ('data', 1.5108256237659907),\n",
       " ('is', 1.5108256237659907),\n",
       " ('an', 1.916290731874155),\n",
       " ('are', 1.916290731874155),\n",
       " ('at', 1.916290731874155),\n",
       " ('becomes', 1.916290731874155),\n",
       " ('between', 1.916290731874155),\n",
       " ('both', 1.916290731874155),\n",
       " ('brained', 1.916290731874155),\n",
       " ('difficult', 1.916290731874155),\n",
       " ('excelling', 1.916290731874155),\n",
       " ('generally', 1.916290731874155),\n",
       " ('graduates', 1.916290731874155),\n",
       " ('in', 1.916290731874155),\n",
       " ('language', 1.916290731874155),\n",
       " ('left', 1.916290731874155),\n",
       " ('natural', 1.916290731874155),\n",
       " ('of', 1.916290731874155),\n",
       " ('overlap', 1.916290731874155),\n",
       " ('part', 1.916290731874155),\n",
       " ('processing', 1.916290731874155),\n",
       " ('right', 1.916290731874155),\n",
       " ('time', 1.916290731874155)]"
      ]
     },
     "execution_count": 16,
     "metadata": {},
     "output_type": "execute_result"
    }
   ],
   "source": [
    "sorted(words_idf.items(), key = lambda x : x[1])"
   ]
  },
  {
   "cell_type": "code",
   "execution_count": 10,
   "metadata": {},
   "outputs": [
    {
     "data": {
      "text/plain": [
       "{'science': 1.0,\n",
       " 'and': 1.2231435513142097,\n",
       " 'arts': 1.2231435513142097,\n",
       " 'data': 1.5108256237659907,\n",
       " 'is': 1.5108256237659907,\n",
       " 'an': 1.916290731874155,\n",
       " 'are': 1.916290731874155,\n",
       " 'at': 1.916290731874155,\n",
       " 'becomes': 1.916290731874155,\n",
       " 'between': 1.916290731874155,\n",
       " 'both': 1.916290731874155,\n",
       " 'brained': 1.916290731874155,\n",
       " 'difficult': 1.916290731874155,\n",
       " 'excelling': 1.916290731874155,\n",
       " 'generally': 1.916290731874155,\n",
       " 'graduates': 1.916290731874155,\n",
       " 'in': 1.916290731874155,\n",
       " 'language': 1.916290731874155,\n",
       " 'left': 1.916290731874155,\n",
       " 'natural': 1.916290731874155,\n",
       " 'of': 1.916290731874155,\n",
       " 'overlap': 1.916290731874155,\n",
       " 'part': 1.916290731874155,\n",
       " 'processing': 1.916290731874155,\n",
       " 'right': 1.916290731874155,\n",
       " 'time': 1.916290731874155}"
      ]
     },
     "execution_count": 10,
     "metadata": {},
     "output_type": "execute_result"
    }
   ],
   "source": [
    "{i:j for i,j in sorted(words_idf.items(), key = lambda x : x[1])}"
   ]
  },
  {
   "cell_type": "code",
   "execution_count": 11,
   "metadata": {},
   "outputs": [
    {
     "data": {
      "text/html": [
       "<div>\n",
       "<style scoped>\n",
       "    .dataframe tbody tr th:only-of-type {\n",
       "        vertical-align: middle;\n",
       "    }\n",
       "\n",
       "    .dataframe tbody tr th {\n",
       "        vertical-align: top;\n",
       "    }\n",
       "\n",
       "    .dataframe thead th {\n",
       "        text-align: right;\n",
       "    }\n",
       "</style>\n",
       "<table border=\"1\" class=\"dataframe\">\n",
       "  <thead>\n",
       "    <tr style=\"text-align: right;\">\n",
       "      <th></th>\n",
       "      <th>science</th>\n",
       "      <th>and</th>\n",
       "      <th>arts</th>\n",
       "      <th>data</th>\n",
       "      <th>is</th>\n",
       "      <th>an</th>\n",
       "      <th>are</th>\n",
       "      <th>at</th>\n",
       "      <th>becomes</th>\n",
       "      <th>between</th>\n",
       "      <th>both</th>\n",
       "      <th>brained</th>\n",
       "      <th>difficult</th>\n",
       "      <th>excelling</th>\n",
       "      <th>generally</th>\n",
       "      <th>graduates</th>\n",
       "      <th>in</th>\n",
       "      <th>language</th>\n",
       "      <th>left</th>\n",
       "      <th>natural</th>\n",
       "      <th>of</th>\n",
       "      <th>overlap</th>\n",
       "      <th>part</th>\n",
       "      <th>processing</th>\n",
       "      <th>right</th>\n",
       "      <th>time</th>\n",
       "    </tr>\n",
       "  </thead>\n",
       "  <tbody>\n",
       "    <tr>\n",
       "      <th>0</th>\n",
       "      <td>1.0</td>\n",
       "      <td>1.223144</td>\n",
       "      <td>1.223144</td>\n",
       "      <td>1.510826</td>\n",
       "      <td>1.510826</td>\n",
       "      <td>1.916291</td>\n",
       "      <td>1.916291</td>\n",
       "      <td>1.916291</td>\n",
       "      <td>1.916291</td>\n",
       "      <td>1.916291</td>\n",
       "      <td>1.916291</td>\n",
       "      <td>1.916291</td>\n",
       "      <td>1.916291</td>\n",
       "      <td>1.916291</td>\n",
       "      <td>1.916291</td>\n",
       "      <td>1.916291</td>\n",
       "      <td>1.916291</td>\n",
       "      <td>1.916291</td>\n",
       "      <td>1.916291</td>\n",
       "      <td>1.916291</td>\n",
       "      <td>1.916291</td>\n",
       "      <td>1.916291</td>\n",
       "      <td>1.916291</td>\n",
       "      <td>1.916291</td>\n",
       "      <td>1.916291</td>\n",
       "      <td>1.916291</td>\n",
       "    </tr>\n",
       "  </tbody>\n",
       "</table>\n",
       "</div>"
      ],
      "text/plain": [
       "   science       and      arts      data        is        an       are  \\\n",
       "0      1.0  1.223144  1.223144  1.510826  1.510826  1.916291  1.916291   \n",
       "\n",
       "         at   becomes   between      both   brained  difficult  excelling  \\\n",
       "0  1.916291  1.916291  1.916291  1.916291  1.916291   1.916291   1.916291   \n",
       "\n",
       "   generally  graduates        in  language      left   natural        of  \\\n",
       "0   1.916291   1.916291  1.916291  1.916291  1.916291  1.916291  1.916291   \n",
       "\n",
       "    overlap      part  processing     right      time  \n",
       "0  1.916291  1.916291    1.916291  1.916291  1.916291  "
      ]
     },
     "execution_count": 11,
     "metadata": {},
     "output_type": "execute_result"
    }
   ],
   "source": [
    "pd.DataFrame(data = {i:j for i,j in sorted(words_idf.items(), key = lambda x : x[1])} , index = range(1))"
   ]
  },
  {
   "cell_type": "code",
   "execution_count": 12,
   "metadata": {},
   "outputs": [
    {
     "data": {
      "text/plain": [
       "['an',\n",
       " 'and',\n",
       " 'are',\n",
       " 'arts',\n",
       " 'at',\n",
       " 'becomes',\n",
       " 'between',\n",
       " 'both',\n",
       " 'brained',\n",
       " 'data',\n",
       " 'difficult',\n",
       " 'excelling',\n",
       " 'generally',\n",
       " 'graduates',\n",
       " 'in',\n",
       " 'is',\n",
       " 'language',\n",
       " 'left',\n",
       " 'natural',\n",
       " 'of',\n",
       " 'overlap',\n",
       " 'part',\n",
       " 'processing',\n",
       " 'right',\n",
       " 'science',\n",
       " 'time']"
      ]
     },
     "execution_count": 12,
     "metadata": {},
     "output_type": "execute_result"
    }
   ],
   "source": [
    "sorted(tfidf_model.vocabulary_)"
   ]
  },
  {
   "cell_type": "code",
   "execution_count": 13,
   "metadata": {
    "ExecuteTime": {
     "end_time": "2021-03-13T14:54:03.002083Z",
     "start_time": "2021-03-13T14:54:02.902350Z"
    },
    "colab": {
     "base_uri": "https://localhost:8080/",
     "height": 186
    },
    "executionInfo": {
     "elapsed": 1086,
     "status": "ok",
     "timestamp": 1604835161531,
     "user": {
      "displayName": "Raghav Nyapati",
      "photoUrl": "",
      "userId": "13728981372697321629"
     },
     "user_tz": -330
    },
    "id": "y0Y8ffRJoSem",
    "outputId": "d5960192-ffba-4219-bb81-72f82a394f16"
   },
   "outputs": [
    {
     "data": {
      "text/html": [
       "<div>\n",
       "<style scoped>\n",
       "    .dataframe tbody tr th:only-of-type {\n",
       "        vertical-align: middle;\n",
       "    }\n",
       "\n",
       "    .dataframe tbody tr th {\n",
       "        vertical-align: top;\n",
       "    }\n",
       "\n",
       "    .dataframe thead th {\n",
       "        text-align: right;\n",
       "    }\n",
       "</style>\n",
       "<table border=\"1\" class=\"dataframe\">\n",
       "  <thead>\n",
       "    <tr style=\"text-align: right;\">\n",
       "      <th></th>\n",
       "      <th>an</th>\n",
       "      <th>and</th>\n",
       "      <th>are</th>\n",
       "      <th>arts</th>\n",
       "      <th>at</th>\n",
       "      <th>becomes</th>\n",
       "      <th>between</th>\n",
       "      <th>both</th>\n",
       "      <th>brained</th>\n",
       "      <th>data</th>\n",
       "      <th>difficult</th>\n",
       "      <th>excelling</th>\n",
       "      <th>generally</th>\n",
       "      <th>graduates</th>\n",
       "      <th>in</th>\n",
       "      <th>is</th>\n",
       "      <th>language</th>\n",
       "      <th>left</th>\n",
       "      <th>natural</th>\n",
       "      <th>of</th>\n",
       "      <th>overlap</th>\n",
       "      <th>part</th>\n",
       "      <th>processing</th>\n",
       "      <th>right</th>\n",
       "      <th>science</th>\n",
       "      <th>time</th>\n",
       "    </tr>\n",
       "  </thead>\n",
       "  <tbody>\n",
       "    <tr>\n",
       "      <th>0</th>\n",
       "      <td>0.403328</td>\n",
       "      <td>0.257439</td>\n",
       "      <td>0.000000</td>\n",
       "      <td>0.257439</td>\n",
       "      <td>0.000000</td>\n",
       "      <td>0.000000</td>\n",
       "      <td>0.403328</td>\n",
       "      <td>0.000000</td>\n",
       "      <td>0.000000</td>\n",
       "      <td>0.317989</td>\n",
       "      <td>0.000000</td>\n",
       "      <td>0.000000</td>\n",
       "      <td>0.000000</td>\n",
       "      <td>0.000000</td>\n",
       "      <td>0.000000</td>\n",
       "      <td>0.317989</td>\n",
       "      <td>0.000000</td>\n",
       "      <td>0.000000</td>\n",
       "      <td>0.000000</td>\n",
       "      <td>0.000000</td>\n",
       "      <td>0.403328</td>\n",
       "      <td>0.000000</td>\n",
       "      <td>0.000000</td>\n",
       "      <td>0.000000</td>\n",
       "      <td>0.420947</td>\n",
       "      <td>0.000000</td>\n",
       "    </tr>\n",
       "    <tr>\n",
       "      <th>1</th>\n",
       "      <td>0.000000</td>\n",
       "      <td>0.159139</td>\n",
       "      <td>0.498644</td>\n",
       "      <td>0.159139</td>\n",
       "      <td>0.000000</td>\n",
       "      <td>0.000000</td>\n",
       "      <td>0.000000</td>\n",
       "      <td>0.000000</td>\n",
       "      <td>0.498644</td>\n",
       "      <td>0.000000</td>\n",
       "      <td>0.000000</td>\n",
       "      <td>0.000000</td>\n",
       "      <td>0.249322</td>\n",
       "      <td>0.498644</td>\n",
       "      <td>0.000000</td>\n",
       "      <td>0.000000</td>\n",
       "      <td>0.000000</td>\n",
       "      <td>0.249322</td>\n",
       "      <td>0.000000</td>\n",
       "      <td>0.000000</td>\n",
       "      <td>0.000000</td>\n",
       "      <td>0.000000</td>\n",
       "      <td>0.000000</td>\n",
       "      <td>0.249322</td>\n",
       "      <td>0.130107</td>\n",
       "      <td>0.000000</td>\n",
       "    </tr>\n",
       "    <tr>\n",
       "      <th>2</th>\n",
       "      <td>0.000000</td>\n",
       "      <td>0.224449</td>\n",
       "      <td>0.000000</td>\n",
       "      <td>0.224449</td>\n",
       "      <td>0.351643</td>\n",
       "      <td>0.351643</td>\n",
       "      <td>0.000000</td>\n",
       "      <td>0.351643</td>\n",
       "      <td>0.000000</td>\n",
       "      <td>0.000000</td>\n",
       "      <td>0.351643</td>\n",
       "      <td>0.351643</td>\n",
       "      <td>0.000000</td>\n",
       "      <td>0.000000</td>\n",
       "      <td>0.351643</td>\n",
       "      <td>0.000000</td>\n",
       "      <td>0.000000</td>\n",
       "      <td>0.000000</td>\n",
       "      <td>0.000000</td>\n",
       "      <td>0.000000</td>\n",
       "      <td>0.000000</td>\n",
       "      <td>0.000000</td>\n",
       "      <td>0.000000</td>\n",
       "      <td>0.000000</td>\n",
       "      <td>0.183502</td>\n",
       "      <td>0.351643</td>\n",
       "    </tr>\n",
       "    <tr>\n",
       "      <th>3</th>\n",
       "      <td>0.000000</td>\n",
       "      <td>0.000000</td>\n",
       "      <td>0.000000</td>\n",
       "      <td>0.000000</td>\n",
       "      <td>0.000000</td>\n",
       "      <td>0.000000</td>\n",
       "      <td>0.000000</td>\n",
       "      <td>0.000000</td>\n",
       "      <td>0.000000</td>\n",
       "      <td>0.308872</td>\n",
       "      <td>0.000000</td>\n",
       "      <td>0.000000</td>\n",
       "      <td>0.000000</td>\n",
       "      <td>0.000000</td>\n",
       "      <td>0.000000</td>\n",
       "      <td>0.308872</td>\n",
       "      <td>0.391765</td>\n",
       "      <td>0.000000</td>\n",
       "      <td>0.391765</td>\n",
       "      <td>0.391765</td>\n",
       "      <td>0.000000</td>\n",
       "      <td>0.391765</td>\n",
       "      <td>0.391765</td>\n",
       "      <td>0.000000</td>\n",
       "      <td>0.204439</td>\n",
       "      <td>0.000000</td>\n",
       "    </tr>\n",
       "  </tbody>\n",
       "</table>\n",
       "</div>"
      ],
      "text/plain": [
       "         an       and       are      arts        at   becomes   between  \\\n",
       "0  0.403328  0.257439  0.000000  0.257439  0.000000  0.000000  0.403328   \n",
       "1  0.000000  0.159139  0.498644  0.159139  0.000000  0.000000  0.000000   \n",
       "2  0.000000  0.224449  0.000000  0.224449  0.351643  0.351643  0.000000   \n",
       "3  0.000000  0.000000  0.000000  0.000000  0.000000  0.000000  0.000000   \n",
       "\n",
       "       both   brained      data  difficult  excelling  generally  graduates  \\\n",
       "0  0.000000  0.000000  0.317989   0.000000   0.000000   0.000000   0.000000   \n",
       "1  0.000000  0.498644  0.000000   0.000000   0.000000   0.249322   0.498644   \n",
       "2  0.351643  0.000000  0.000000   0.351643   0.351643   0.000000   0.000000   \n",
       "3  0.000000  0.000000  0.308872   0.000000   0.000000   0.000000   0.000000   \n",
       "\n",
       "         in        is  language      left   natural        of   overlap  \\\n",
       "0  0.000000  0.317989  0.000000  0.000000  0.000000  0.000000  0.403328   \n",
       "1  0.000000  0.000000  0.000000  0.249322  0.000000  0.000000  0.000000   \n",
       "2  0.351643  0.000000  0.000000  0.000000  0.000000  0.000000  0.000000   \n",
       "3  0.000000  0.308872  0.391765  0.000000  0.391765  0.391765  0.000000   \n",
       "\n",
       "       part  processing     right   science      time  \n",
       "0  0.000000    0.000000  0.000000  0.420947  0.000000  \n",
       "1  0.000000    0.000000  0.249322  0.130107  0.000000  \n",
       "2  0.000000    0.000000  0.000000  0.183502  0.351643  \n",
       "3  0.391765    0.391765  0.000000  0.204439  0.000000  "
      ]
     },
     "execution_count": 13,
     "metadata": {},
     "output_type": "execute_result"
    }
   ],
   "source": [
    "tfidf_df = pd.DataFrame(data.todense())\n",
    "\n",
    "tfidf_df.columns = sorted(tfidf_model.vocabulary_)\n",
    "\n",
    "tfidf_df.head()"
   ]
  },
  {
   "cell_type": "code",
   "execution_count": null,
   "metadata": {},
   "outputs": [],
   "source": []
  }
 ],
 "metadata": {
  "colab": {
   "authorship_tag": "ABX9TyPB9//XQBGbcaMpGwEe/2e9",
   "collapsed_sections": [],
   "name": "NLP Session 2_TF-IDF.ipynb",
   "provenance": []
  },
  "kernelspec": {
   "display_name": "Python 3",
   "language": "python",
   "name": "python3"
  },
  "language_info": {
   "codemirror_mode": {
    "name": "ipython",
    "version": 3
   },
   "file_extension": ".py",
   "mimetype": "text/x-python",
   "name": "python",
   "nbconvert_exporter": "python",
   "pygments_lexer": "ipython3",
   "version": "3.7.3"
  },
  "varInspector": {
   "cols": {
    "lenName": 16,
    "lenType": 16,
    "lenVar": 40
   },
   "kernels_config": {
    "python": {
     "delete_cmd_postfix": "",
     "delete_cmd_prefix": "del ",
     "library": "var_list.py",
     "varRefreshCmd": "print(var_dic_list())"
    },
    "r": {
     "delete_cmd_postfix": ") ",
     "delete_cmd_prefix": "rm(",
     "library": "var_list.r",
     "varRefreshCmd": "cat(var_dic_list()) "
    }
   },
   "types_to_exclude": [
    "module",
    "function",
    "builtin_function_or_method",
    "instance",
    "_Feature"
   ],
   "window_display": false
  }
 },
 "nbformat": 4,
 "nbformat_minor": 1
}
